{
  "cells": [
    {
      "cell_type": "markdown",
      "metadata": {
        "id": "ci6uwlpdfHsa"
      },
      "source": [
        "**Data Scientist Challenge - LATAM Airlines**\n",
        "\n",
        "**Daniel Felipe Osorio Marin:**  https://www.linkedin.com/in/dfosoriom/\n",
        "\n",
        "\n",
        "A continuación solución al reto propuesto:"
      ]
    },
    {
      "cell_type": "markdown",
      "metadata": {
        "id": "131U9wDt6Xrx"
      },
      "source": [
        "\n",
        "**Contexto de negocio**\n",
        "\n",
        "El transporte aéreo se ha catalogado a través de los años como uno de los medios de\n",
        "transporte más utilizados y necesarios por la sociedad, a raíz del avance en la industria de la\n",
        "aviación el mundo ha crecido de manera acelerada. A raíz de todo este proceso, los problemas\n",
        "en los retrasos aéreos se han vuelto más comunes, los cuales tienden a generar más impactos\n",
        "negativos en las aerolíneas debido al incremento de flujo en la cantidad de pasajeros que\n",
        "toman dichos vuelos (Gonzales, 2020).\n",
        "\n",
        "\n",
        "\n",
        "**Retrasos de los vuelos y sus causas**\n",
        "\n",
        "\n",
        "A lo largo de los años, los aeropuertos vienen presentando un aumento en la cantidad\n",
        "de aeronaves de las compañías de aerolíneas, que buscan satisfacer las necesidades del\n",
        "incremento de personas y cargas que se transportan a diario. Por esta razón, se ha evidenciado\n",
        "un crecimiento en el número de los vuelos retrasados, la congestión es una problemática que\n",
        "aqueja a todos los aeropuertos del mundo, generando así grandes pérdidas económicas tanto\n",
        "para las aerolíneas a causa del combustible, factores operacionales, entre otros, como para\n",
        "los usuarios, que además por su inconformidad en muchas ocasiones no vuelven a tomar un\n",
        "vuelo en la aerolínea que originó el retraso en sus actividades ( GONZÁLEZ, 2020)\n",
        "\n",
        "\n",
        "\n",
        "**Analítica de datos**\n",
        "\n",
        "Por lo anterior, se identifica una gran oportunidad para que por medio del análisis de datos se puede llevar a cabo desde un criterio cuantitativo, y predictivo, modelos que permitan mejorar la operatividad. Lo anterior acompanado de un contexto de negocio que permita la implementación de modelos y medición de los mismos en pro de la mejora continua en sus procesos.\n",
        "\n",
        "\n"
      ]
    },
    {
      "cell_type": "markdown",
      "metadata": {
        "id": "AUBfd4TqEMSC"
      },
      "source": [
        "# Entendimiento de los datos"
      ]
    },
    {
      "cell_type": "code",
      "execution_count": null,
      "metadata": {},
      "outputs": [],
      "source": [
        "%%capture\n",
        "!pip install pandas\n",
        "!pip install matplotlib"
      ]
    },
    {
      "cell_type": "code",
      "execution_count": 126,
      "metadata": {
        "id": "Gun6mpbX3YPk"
      },
      "outputs": [],
      "source": [
        "#Instalación de librerias y paquetes necesarios para análisis exploratorio de datos EDA\n",
        "import pandas as pd\n",
        "import numpy as np\n",
        "import matplotlib.pyplot as plt\n",
        "from datetime import date, time, datetime\n"
      ]
    },
    {
      "cell_type": "code",
      "execution_count": 129,
      "metadata": {
        "id": "N9UQcMlo53-B"
      },
      "outputs": [],
      "source": [
        "# importar datos csv\n",
        " \n",
        "df = pd.read_csv(\"dataset_SCL .csv\") \n"
      ]
    },
    {
      "cell_type": "code",
      "execution_count": 130,
      "metadata": {
        "colab": {
          "base_uri": "https://localhost:8080/",
          "height": 206
        },
        "id": "MQdiV8hL6R7U",
        "outputId": "d307a6a0-1407-4e31-de98-bda9c92c5300"
      },
      "outputs": [
        {
          "data": {
            "text/html": [
              "\n",
              "  <div id=\"df-dfc3d9bf-1eed-4782-9a3f-2fbf355e58a1\">\n",
              "    <div class=\"colab-df-container\">\n",
              "      <div>\n",
              "<style scoped>\n",
              "    .dataframe tbody tr th:only-of-type {\n",
              "        vertical-align: middle;\n",
              "    }\n",
              "\n",
              "    .dataframe tbody tr th {\n",
              "        vertical-align: top;\n",
              "    }\n",
              "\n",
              "    .dataframe thead th {\n",
              "        text-align: right;\n",
              "    }\n",
              "</style>\n",
              "<table border=\"1\" class=\"dataframe\">\n",
              "  <thead>\n",
              "    <tr style=\"text-align: right;\">\n",
              "      <th></th>\n",
              "      <th>Fecha-I</th>\n",
              "      <th>Vlo-I</th>\n",
              "      <th>Ori-I</th>\n",
              "      <th>Des-I</th>\n",
              "      <th>Emp-I</th>\n",
              "      <th>Fecha-O</th>\n",
              "      <th>Vlo-O</th>\n",
              "      <th>Ori-O</th>\n",
              "      <th>Des-O</th>\n",
              "      <th>Emp-O</th>\n",
              "      <th>DIA</th>\n",
              "      <th>MES</th>\n",
              "      <th>AÑO</th>\n",
              "      <th>DIANOM</th>\n",
              "      <th>TIPOVUELO</th>\n",
              "      <th>OPERA</th>\n",
              "      <th>SIGLAORI</th>\n",
              "      <th>SIGLADES</th>\n",
              "    </tr>\n",
              "  </thead>\n",
              "  <tbody>\n",
              "    <tr>\n",
              "      <th>0</th>\n",
              "      <td>2017-01-01 23:30:00</td>\n",
              "      <td>226</td>\n",
              "      <td>SCEL</td>\n",
              "      <td>KMIA</td>\n",
              "      <td>AAL</td>\n",
              "      <td>2017-01-01 23:33:00</td>\n",
              "      <td>226</td>\n",
              "      <td>SCEL</td>\n",
              "      <td>KMIA</td>\n",
              "      <td>AAL</td>\n",
              "      <td>1.0</td>\n",
              "      <td>1.0</td>\n",
              "      <td>2017.0</td>\n",
              "      <td>Domingo</td>\n",
              "      <td>I</td>\n",
              "      <td>American Airlines</td>\n",
              "      <td>Santiago</td>\n",
              "      <td>Miami</td>\n",
              "    </tr>\n",
              "    <tr>\n",
              "      <th>1</th>\n",
              "      <td>2017-01-02 23:30:00</td>\n",
              "      <td>226</td>\n",
              "      <td>SCEL</td>\n",
              "      <td>KMIA</td>\n",
              "      <td>AAL</td>\n",
              "      <td>2017-01-02 23:39:00</td>\n",
              "      <td>226</td>\n",
              "      <td>SCEL</td>\n",
              "      <td>KMIA</td>\n",
              "      <td>AAL</td>\n",
              "      <td>2.0</td>\n",
              "      <td>1.0</td>\n",
              "      <td>2017.0</td>\n",
              "      <td>Lunes</td>\n",
              "      <td>I</td>\n",
              "      <td>American Airlines</td>\n",
              "      <td>Santiago</td>\n",
              "      <td>Miami</td>\n",
              "    </tr>\n",
              "    <tr>\n",
              "      <th>2</th>\n",
              "      <td>2017-01-03 23:30:00</td>\n",
              "      <td>226</td>\n",
              "      <td>SCEL</td>\n",
              "      <td>KMIA</td>\n",
              "      <td>AAL</td>\n",
              "      <td>2017-01-03 23:39:00</td>\n",
              "      <td>226</td>\n",
              "      <td>SCEL</td>\n",
              "      <td>KMIA</td>\n",
              "      <td>AAL</td>\n",
              "      <td>3.0</td>\n",
              "      <td>1.0</td>\n",
              "      <td>2017.0</td>\n",
              "      <td>Martes</td>\n",
              "      <td>I</td>\n",
              "      <td>American Airlines</td>\n",
              "      <td>Santiago</td>\n",
              "      <td>Miami</td>\n",
              "    </tr>\n",
              "    <tr>\n",
              "      <th>3</th>\n",
              "      <td>2017-01-04 23:30:00</td>\n",
              "      <td>226</td>\n",
              "      <td>SCEL</td>\n",
              "      <td>KMIA</td>\n",
              "      <td>AAL</td>\n",
              "      <td>2017-01-04 23:33:00</td>\n",
              "      <td>226</td>\n",
              "      <td>SCEL</td>\n",
              "      <td>KMIA</td>\n",
              "      <td>AAL</td>\n",
              "      <td>4.0</td>\n",
              "      <td>1.0</td>\n",
              "      <td>2017.0</td>\n",
              "      <td>Miercoles</td>\n",
              "      <td>I</td>\n",
              "      <td>American Airlines</td>\n",
              "      <td>Santiago</td>\n",
              "      <td>Miami</td>\n",
              "    </tr>\n",
              "    <tr>\n",
              "      <th>4</th>\n",
              "      <td>2017-01-05 23:30:00</td>\n",
              "      <td>226</td>\n",
              "      <td>SCEL</td>\n",
              "      <td>KMIA</td>\n",
              "      <td>AAL</td>\n",
              "      <td>2017-01-05 23:28:00</td>\n",
              "      <td>226</td>\n",
              "      <td>SCEL</td>\n",
              "      <td>KMIA</td>\n",
              "      <td>AAL</td>\n",
              "      <td>5.0</td>\n",
              "      <td>1.0</td>\n",
              "      <td>2017.0</td>\n",
              "      <td>Jueves</td>\n",
              "      <td>I</td>\n",
              "      <td>American Airlines</td>\n",
              "      <td>Santiago</td>\n",
              "      <td>Miami</td>\n",
              "    </tr>\n",
              "  </tbody>\n",
              "</table>\n",
              "</div>\n",
              "      <button class=\"colab-df-convert\" onclick=\"convertToInteractive('df-dfc3d9bf-1eed-4782-9a3f-2fbf355e58a1')\"\n",
              "              title=\"Convert this dataframe to an interactive table.\"\n",
              "              style=\"display:none;\">\n",
              "        \n",
              "  <svg xmlns=\"http://www.w3.org/2000/svg\" height=\"24px\"viewBox=\"0 0 24 24\"\n",
              "       width=\"24px\">\n",
              "    <path d=\"M0 0h24v24H0V0z\" fill=\"none\"/>\n",
              "    <path d=\"M18.56 5.44l.94 2.06.94-2.06 2.06-.94-2.06-.94-.94-2.06-.94 2.06-2.06.94zm-11 1L8.5 8.5l.94-2.06 2.06-.94-2.06-.94L8.5 2.5l-.94 2.06-2.06.94zm10 10l.94 2.06.94-2.06 2.06-.94-2.06-.94-.94-2.06-.94 2.06-2.06.94z\"/><path d=\"M17.41 7.96l-1.37-1.37c-.4-.4-.92-.59-1.43-.59-.52 0-1.04.2-1.43.59L10.3 9.45l-7.72 7.72c-.78.78-.78 2.05 0 2.83L4 21.41c.39.39.9.59 1.41.59.51 0 1.02-.2 1.41-.59l7.78-7.78 2.81-2.81c.8-.78.8-2.07 0-2.86zM5.41 20L4 18.59l7.72-7.72 1.47 1.35L5.41 20z\"/>\n",
              "  </svg>\n",
              "      </button>\n",
              "      \n",
              "  <style>\n",
              "    .colab-df-container {\n",
              "      display:flex;\n",
              "      flex-wrap:wrap;\n",
              "      gap: 12px;\n",
              "    }\n",
              "\n",
              "    .colab-df-convert {\n",
              "      background-color: #E8F0FE;\n",
              "      border: none;\n",
              "      border-radius: 50%;\n",
              "      cursor: pointer;\n",
              "      display: none;\n",
              "      fill: #1967D2;\n",
              "      height: 32px;\n",
              "      padding: 0 0 0 0;\n",
              "      width: 32px;\n",
              "    }\n",
              "\n",
              "    .colab-df-convert:hover {\n",
              "      background-color: #E2EBFA;\n",
              "      box-shadow: 0px 1px 2px rgba(60, 64, 67, 0.3), 0px 1px 3px 1px rgba(60, 64, 67, 0.15);\n",
              "      fill: #174EA6;\n",
              "    }\n",
              "\n",
              "    [theme=dark] .colab-df-convert {\n",
              "      background-color: #3B4455;\n",
              "      fill: #D2E3FC;\n",
              "    }\n",
              "\n",
              "    [theme=dark] .colab-df-convert:hover {\n",
              "      background-color: #434B5C;\n",
              "      box-shadow: 0px 1px 3px 1px rgba(0, 0, 0, 0.15);\n",
              "      filter: drop-shadow(0px 1px 2px rgba(0, 0, 0, 0.3));\n",
              "      fill: #FFFFFF;\n",
              "    }\n",
              "  </style>\n",
              "\n",
              "      <script>\n",
              "        const buttonEl =\n",
              "          document.querySelector('#df-dfc3d9bf-1eed-4782-9a3f-2fbf355e58a1 button.colab-df-convert');\n",
              "        buttonEl.style.display =\n",
              "          google.colab.kernel.accessAllowed ? 'block' : 'none';\n",
              "\n",
              "        async function convertToInteractive(key) {\n",
              "          const element = document.querySelector('#df-dfc3d9bf-1eed-4782-9a3f-2fbf355e58a1');\n",
              "          const dataTable =\n",
              "            await google.colab.kernel.invokeFunction('convertToInteractive',\n",
              "                                                     [key], {});\n",
              "          if (!dataTable) return;\n",
              "\n",
              "          const docLinkHtml = 'Like what you see? Visit the ' +\n",
              "            '<a target=\"_blank\" href=https://colab.research.google.com/notebooks/data_table.ipynb>data table notebook</a>'\n",
              "            + ' to learn more about interactive tables.';\n",
              "          element.innerHTML = '';\n",
              "          dataTable['output_type'] = 'display_data';\n",
              "          await google.colab.output.renderOutput(dataTable, element);\n",
              "          const docLink = document.createElement('div');\n",
              "          docLink.innerHTML = docLinkHtml;\n",
              "          element.appendChild(docLink);\n",
              "        }\n",
              "      </script>\n",
              "    </div>\n",
              "  </div>\n",
              "  "
            ],
            "text/plain": [
              "               Fecha-I Vlo-I Ori-I Des-I Emp-I              Fecha-O Vlo-O  \\\n",
              "0  2017-01-01 23:30:00   226  SCEL  KMIA   AAL  2017-01-01 23:33:00   226   \n",
              "1  2017-01-02 23:30:00   226  SCEL  KMIA   AAL  2017-01-02 23:39:00   226   \n",
              "2  2017-01-03 23:30:00   226  SCEL  KMIA   AAL  2017-01-03 23:39:00   226   \n",
              "3  2017-01-04 23:30:00   226  SCEL  KMIA   AAL  2017-01-04 23:33:00   226   \n",
              "4  2017-01-05 23:30:00   226  SCEL  KMIA   AAL  2017-01-05 23:28:00   226   \n",
              "\n",
              "  Ori-O Des-O Emp-O  DIA  MES     AÑO     DIANOM TIPOVUELO              OPERA  \\\n",
              "0  SCEL  KMIA   AAL  1.0  1.0  2017.0    Domingo         I  American Airlines   \n",
              "1  SCEL  KMIA   AAL  2.0  1.0  2017.0      Lunes         I  American Airlines   \n",
              "2  SCEL  KMIA   AAL  3.0  1.0  2017.0     Martes         I  American Airlines   \n",
              "3  SCEL  KMIA   AAL  4.0  1.0  2017.0  Miercoles         I  American Airlines   \n",
              "4  SCEL  KMIA   AAL  5.0  1.0  2017.0     Jueves         I  American Airlines   \n",
              "\n",
              "   SIGLAORI SIGLADES  \n",
              "0  Santiago    Miami  \n",
              "1  Santiago    Miami  \n",
              "2  Santiago    Miami  \n",
              "3  Santiago    Miami  \n",
              "4  Santiago    Miami  "
            ]
          },
          "execution_count": 130,
          "metadata": {},
          "output_type": "execute_result"
        }
      ],
      "source": [
        "#Mostrar primeros 5 filas del los datos\n",
        "df.head(5) \n"
      ]
    },
    {
      "cell_type": "code",
      "execution_count": 131,
      "metadata": {
        "colab": {
          "base_uri": "https://localhost:8080/"
        },
        "id": "9FC-6Pf46Zm3",
        "outputId": "ca662bf3-1bd9-40d5-d561-578cc5c0f97f"
      },
      "outputs": [
        {
          "data": {
            "text/plain": [
              "Index(['Fecha-I', 'Vlo-I', 'Ori-I', 'Des-I', 'Emp-I', 'Fecha-O', 'Vlo-O',\n",
              "       'Ori-O', 'Des-O', 'Emp-O', 'DIA', 'MES', 'AÑO', 'DIANOM', 'TIPOVUELO',\n",
              "       'OPERA', 'SIGLAORI', 'SIGLADES'],\n",
              "      dtype='object')"
            ]
          },
          "execution_count": 131,
          "metadata": {},
          "output_type": "execute_result"
        }
      ],
      "source": [
        "#Revisar nombre de columnas \n",
        "df.columns"
      ]
    },
    {
      "cell_type": "code",
      "execution_count": 132,
      "metadata": {
        "colab": {
          "base_uri": "https://localhost:8080/"
        },
        "id": "Fp4w9ZgF6bk6",
        "outputId": "370fda44-881e-4d4b-f5c4-cd314ec60ffb"
      },
      "outputs": [
        {
          "data": {
            "text/plain": [
              "(68206, 18)"
            ]
          },
          "execution_count": 132,
          "metadata": {},
          "output_type": "execute_result"
        }
      ],
      "source": [
        "#Tamaño del los datos\n",
        "df.shape\n"
      ]
    },
    {
      "cell_type": "code",
      "execution_count": 133,
      "metadata": {
        "colab": {
          "base_uri": "https://localhost:8080/"
        },
        "id": "4uG-xG6j6iou",
        "outputId": "1c1ca6ec-ac7e-4fa3-a713-42a53b6ee7df"
      },
      "outputs": [
        {
          "name": "stdout",
          "output_type": "stream",
          "text": [
            "<class 'pandas.core.frame.DataFrame'>\n",
            "RangeIndex: 68206 entries, 0 to 68205\n",
            "Data columns (total 18 columns):\n",
            " #   Column     Non-Null Count  Dtype  \n",
            "---  ------     --------------  -----  \n",
            " 0   Fecha-I    68206 non-null  object \n",
            " 1   Vlo-I      68167 non-null  object \n",
            " 2   Ori-I      68167 non-null  object \n",
            " 3   Des-I      68167 non-null  object \n",
            " 4   Emp-I      68167 non-null  object \n",
            " 5   Fecha-O    68167 non-null  object \n",
            " 6   Vlo-O      68166 non-null  object \n",
            " 7   Ori-O      68167 non-null  object \n",
            " 8   Des-O      68167 non-null  object \n",
            " 9   Emp-O      68167 non-null  object \n",
            " 10  DIA        68167 non-null  float64\n",
            " 11  MES        68167 non-null  float64\n",
            " 12  AÑO        68167 non-null  float64\n",
            " 13  DIANOM     68167 non-null  object \n",
            " 14  TIPOVUELO  68167 non-null  object \n",
            " 15  OPERA      68167 non-null  object \n",
            " 16  SIGLAORI   68167 non-null  object \n",
            " 17  SIGLADES   68167 non-null  object \n",
            "dtypes: float64(3), object(15)\n",
            "memory usage: 9.4+ MB\n"
          ]
        }
      ],
      "source": [
        "#Revisión de tipos de datos \n",
        "df.info()"
      ]
    },
    {
      "cell_type": "code",
      "execution_count": 134,
      "metadata": {
        "colab": {
          "base_uri": "https://localhost:8080/",
          "height": 300
        },
        "id": "feSn4UVW6omh",
        "outputId": "f2421586-3896-47aa-aaae-fc28e636c09f"
      },
      "outputs": [
        {
          "data": {
            "text/html": [
              "\n",
              "  <div id=\"df-eddafaf1-c27e-4b31-a499-411c45acad04\">\n",
              "    <div class=\"colab-df-container\">\n",
              "      <div>\n",
              "<style scoped>\n",
              "    .dataframe tbody tr th:only-of-type {\n",
              "        vertical-align: middle;\n",
              "    }\n",
              "\n",
              "    .dataframe tbody tr th {\n",
              "        vertical-align: top;\n",
              "    }\n",
              "\n",
              "    .dataframe thead th {\n",
              "        text-align: right;\n",
              "    }\n",
              "</style>\n",
              "<table border=\"1\" class=\"dataframe\">\n",
              "  <thead>\n",
              "    <tr style=\"text-align: right;\">\n",
              "      <th></th>\n",
              "      <th>DIA</th>\n",
              "      <th>MES</th>\n",
              "      <th>AÑO</th>\n",
              "    </tr>\n",
              "  </thead>\n",
              "  <tbody>\n",
              "    <tr>\n",
              "      <th>count</th>\n",
              "      <td>68167.000000</td>\n",
              "      <td>68167.000000</td>\n",
              "      <td>68167.000000</td>\n",
              "    </tr>\n",
              "    <tr>\n",
              "      <th>mean</th>\n",
              "      <td>15.714906</td>\n",
              "      <td>6.620359</td>\n",
              "      <td>2017.000029</td>\n",
              "    </tr>\n",
              "    <tr>\n",
              "      <th>std</th>\n",
              "      <td>8.782835</td>\n",
              "      <td>3.522783</td>\n",
              "      <td>0.005417</td>\n",
              "    </tr>\n",
              "    <tr>\n",
              "      <th>min</th>\n",
              "      <td>1.000000</td>\n",
              "      <td>1.000000</td>\n",
              "      <td>2017.000000</td>\n",
              "    </tr>\n",
              "    <tr>\n",
              "      <th>25%</th>\n",
              "      <td>8.000000</td>\n",
              "      <td>3.000000</td>\n",
              "      <td>2017.000000</td>\n",
              "    </tr>\n",
              "    <tr>\n",
              "      <th>50%</th>\n",
              "      <td>16.000000</td>\n",
              "      <td>7.000000</td>\n",
              "      <td>2017.000000</td>\n",
              "    </tr>\n",
              "    <tr>\n",
              "      <th>75%</th>\n",
              "      <td>23.000000</td>\n",
              "      <td>10.000000</td>\n",
              "      <td>2017.000000</td>\n",
              "    </tr>\n",
              "    <tr>\n",
              "      <th>max</th>\n",
              "      <td>31.000000</td>\n",
              "      <td>12.000000</td>\n",
              "      <td>2018.000000</td>\n",
              "    </tr>\n",
              "  </tbody>\n",
              "</table>\n",
              "</div>\n",
              "      <button class=\"colab-df-convert\" onclick=\"convertToInteractive('df-eddafaf1-c27e-4b31-a499-411c45acad04')\"\n",
              "              title=\"Convert this dataframe to an interactive table.\"\n",
              "              style=\"display:none;\">\n",
              "        \n",
              "  <svg xmlns=\"http://www.w3.org/2000/svg\" height=\"24px\"viewBox=\"0 0 24 24\"\n",
              "       width=\"24px\">\n",
              "    <path d=\"M0 0h24v24H0V0z\" fill=\"none\"/>\n",
              "    <path d=\"M18.56 5.44l.94 2.06.94-2.06 2.06-.94-2.06-.94-.94-2.06-.94 2.06-2.06.94zm-11 1L8.5 8.5l.94-2.06 2.06-.94-2.06-.94L8.5 2.5l-.94 2.06-2.06.94zm10 10l.94 2.06.94-2.06 2.06-.94-2.06-.94-.94-2.06-.94 2.06-2.06.94z\"/><path d=\"M17.41 7.96l-1.37-1.37c-.4-.4-.92-.59-1.43-.59-.52 0-1.04.2-1.43.59L10.3 9.45l-7.72 7.72c-.78.78-.78 2.05 0 2.83L4 21.41c.39.39.9.59 1.41.59.51 0 1.02-.2 1.41-.59l7.78-7.78 2.81-2.81c.8-.78.8-2.07 0-2.86zM5.41 20L4 18.59l7.72-7.72 1.47 1.35L5.41 20z\"/>\n",
              "  </svg>\n",
              "      </button>\n",
              "      \n",
              "  <style>\n",
              "    .colab-df-container {\n",
              "      display:flex;\n",
              "      flex-wrap:wrap;\n",
              "      gap: 12px;\n",
              "    }\n",
              "\n",
              "    .colab-df-convert {\n",
              "      background-color: #E8F0FE;\n",
              "      border: none;\n",
              "      border-radius: 50%;\n",
              "      cursor: pointer;\n",
              "      display: none;\n",
              "      fill: #1967D2;\n",
              "      height: 32px;\n",
              "      padding: 0 0 0 0;\n",
              "      width: 32px;\n",
              "    }\n",
              "\n",
              "    .colab-df-convert:hover {\n",
              "      background-color: #E2EBFA;\n",
              "      box-shadow: 0px 1px 2px rgba(60, 64, 67, 0.3), 0px 1px 3px 1px rgba(60, 64, 67, 0.15);\n",
              "      fill: #174EA6;\n",
              "    }\n",
              "\n",
              "    [theme=dark] .colab-df-convert {\n",
              "      background-color: #3B4455;\n",
              "      fill: #D2E3FC;\n",
              "    }\n",
              "\n",
              "    [theme=dark] .colab-df-convert:hover {\n",
              "      background-color: #434B5C;\n",
              "      box-shadow: 0px 1px 3px 1px rgba(0, 0, 0, 0.15);\n",
              "      filter: drop-shadow(0px 1px 2px rgba(0, 0, 0, 0.3));\n",
              "      fill: #FFFFFF;\n",
              "    }\n",
              "  </style>\n",
              "\n",
              "      <script>\n",
              "        const buttonEl =\n",
              "          document.querySelector('#df-eddafaf1-c27e-4b31-a499-411c45acad04 button.colab-df-convert');\n",
              "        buttonEl.style.display =\n",
              "          google.colab.kernel.accessAllowed ? 'block' : 'none';\n",
              "\n",
              "        async function convertToInteractive(key) {\n",
              "          const element = document.querySelector('#df-eddafaf1-c27e-4b31-a499-411c45acad04');\n",
              "          const dataTable =\n",
              "            await google.colab.kernel.invokeFunction('convertToInteractive',\n",
              "                                                     [key], {});\n",
              "          if (!dataTable) return;\n",
              "\n",
              "          const docLinkHtml = 'Like what you see? Visit the ' +\n",
              "            '<a target=\"_blank\" href=https://colab.research.google.com/notebooks/data_table.ipynb>data table notebook</a>'\n",
              "            + ' to learn more about interactive tables.';\n",
              "          element.innerHTML = '';\n",
              "          dataTable['output_type'] = 'display_data';\n",
              "          await google.colab.output.renderOutput(dataTable, element);\n",
              "          const docLink = document.createElement('div');\n",
              "          docLink.innerHTML = docLinkHtml;\n",
              "          element.appendChild(docLink);\n",
              "        }\n",
              "      </script>\n",
              "    </div>\n",
              "  </div>\n",
              "  "
            ],
            "text/plain": [
              "                DIA           MES           AÑO\n",
              "count  68167.000000  68167.000000  68167.000000\n",
              "mean      15.714906      6.620359   2017.000029\n",
              "std        8.782835      3.522783      0.005417\n",
              "min        1.000000      1.000000   2017.000000\n",
              "25%        8.000000      3.000000   2017.000000\n",
              "50%       16.000000      7.000000   2017.000000\n",
              "75%       23.000000     10.000000   2017.000000\n",
              "max       31.000000     12.000000   2018.000000"
            ]
          },
          "execution_count": 134,
          "metadata": {},
          "output_type": "execute_result"
        }
      ],
      "source": [
        "# Medidas de tendencia central basicas \n",
        "df.describe()"
      ]
    },
    {
      "cell_type": "code",
      "execution_count": 135,
      "metadata": {
        "colab": {
          "base_uri": "https://localhost:8080/",
          "height": 206
        },
        "id": "d1IswLinaOd7",
        "outputId": "f18cc524-10c5-4eec-d3ef-d214b13f0598"
      },
      "outputs": [
        {
          "data": {
            "text/html": [
              "\n",
              "  <div id=\"df-2856c69c-c994-4b20-90d6-a199c68c1bdc\">\n",
              "    <div class=\"colab-df-container\">\n",
              "      <div>\n",
              "<style scoped>\n",
              "    .dataframe tbody tr th:only-of-type {\n",
              "        vertical-align: middle;\n",
              "    }\n",
              "\n",
              "    .dataframe tbody tr th {\n",
              "        vertical-align: top;\n",
              "    }\n",
              "\n",
              "    .dataframe thead th {\n",
              "        text-align: right;\n",
              "    }\n",
              "</style>\n",
              "<table border=\"1\" class=\"dataframe\">\n",
              "  <thead>\n",
              "    <tr style=\"text-align: right;\">\n",
              "      <th></th>\n",
              "      <th>Fecha-I</th>\n",
              "      <th>Vlo-I</th>\n",
              "      <th>Ori-I</th>\n",
              "      <th>Des-I</th>\n",
              "      <th>Emp-I</th>\n",
              "      <th>Fecha-O</th>\n",
              "      <th>Vlo-O</th>\n",
              "      <th>Ori-O</th>\n",
              "      <th>Des-O</th>\n",
              "      <th>Emp-O</th>\n",
              "      <th>DIA</th>\n",
              "      <th>MES</th>\n",
              "      <th>AÑO</th>\n",
              "      <th>DIANOM</th>\n",
              "      <th>TIPOVUELO</th>\n",
              "      <th>OPERA</th>\n",
              "      <th>SIGLAORI</th>\n",
              "      <th>SIGLADES</th>\n",
              "    </tr>\n",
              "  </thead>\n",
              "  <tbody>\n",
              "    <tr>\n",
              "      <th>68201</th>\n",
              "      <td>2017-12-22 14:55:00</td>\n",
              "      <td>400.0</td>\n",
              "      <td>SCEL</td>\n",
              "      <td>SPJC</td>\n",
              "      <td>JAT</td>\n",
              "      <td>2017-12-22 15:41:00</td>\n",
              "      <td>400.0</td>\n",
              "      <td>SCEL</td>\n",
              "      <td>SPJC</td>\n",
              "      <td>JAT</td>\n",
              "      <td>22.0</td>\n",
              "      <td>12.0</td>\n",
              "      <td>2017.0</td>\n",
              "      <td>Viernes</td>\n",
              "      <td>I</td>\n",
              "      <td>JetSmart SPA</td>\n",
              "      <td>Santiago</td>\n",
              "      <td>Lima</td>\n",
              "    </tr>\n",
              "    <tr>\n",
              "      <th>68202</th>\n",
              "      <td>2017-12-25 14:55:00</td>\n",
              "      <td>400.0</td>\n",
              "      <td>SCEL</td>\n",
              "      <td>SPJC</td>\n",
              "      <td>JAT</td>\n",
              "      <td>2017-12-25 15:11:00</td>\n",
              "      <td>400.0</td>\n",
              "      <td>SCEL</td>\n",
              "      <td>SPJC</td>\n",
              "      <td>JAT</td>\n",
              "      <td>25.0</td>\n",
              "      <td>12.0</td>\n",
              "      <td>2017.0</td>\n",
              "      <td>Lunes</td>\n",
              "      <td>I</td>\n",
              "      <td>JetSmart SPA</td>\n",
              "      <td>Santiago</td>\n",
              "      <td>Lima</td>\n",
              "    </tr>\n",
              "    <tr>\n",
              "      <th>68203</th>\n",
              "      <td>2017-12-27 14:55:00</td>\n",
              "      <td>400.0</td>\n",
              "      <td>SCEL</td>\n",
              "      <td>SPJC</td>\n",
              "      <td>JAT</td>\n",
              "      <td>2017-12-27 15:35:00</td>\n",
              "      <td>400.0</td>\n",
              "      <td>SCEL</td>\n",
              "      <td>SPJC</td>\n",
              "      <td>JAT</td>\n",
              "      <td>27.0</td>\n",
              "      <td>12.0</td>\n",
              "      <td>2017.0</td>\n",
              "      <td>Miercoles</td>\n",
              "      <td>I</td>\n",
              "      <td>JetSmart SPA</td>\n",
              "      <td>Santiago</td>\n",
              "      <td>Lima</td>\n",
              "    </tr>\n",
              "    <tr>\n",
              "      <th>68204</th>\n",
              "      <td>2017-12-29 14:55:00</td>\n",
              "      <td>400.0</td>\n",
              "      <td>SCEL</td>\n",
              "      <td>SPJC</td>\n",
              "      <td>JAT</td>\n",
              "      <td>2017-12-29 15:08:00</td>\n",
              "      <td>400.0</td>\n",
              "      <td>SCEL</td>\n",
              "      <td>SPJC</td>\n",
              "      <td>JAT</td>\n",
              "      <td>29.0</td>\n",
              "      <td>12.0</td>\n",
              "      <td>2017.0</td>\n",
              "      <td>Viernes</td>\n",
              "      <td>I</td>\n",
              "      <td>JetSmart SPA</td>\n",
              "      <td>Santiago</td>\n",
              "      <td>Lima</td>\n",
              "    </tr>\n",
              "    <tr>\n",
              "      <th>68205</th>\n",
              "      <td>2017-12-31 14:55:00</td>\n",
              "      <td>400.0</td>\n",
              "      <td>SCEL</td>\n",
              "      <td>SPJC</td>\n",
              "      <td>JAT</td>\n",
              "      <td>2017-12-31 15:04:00</td>\n",
              "      <td>400.0</td>\n",
              "      <td>SCEL</td>\n",
              "      <td>SPJC</td>\n",
              "      <td>JAT</td>\n",
              "      <td>31.0</td>\n",
              "      <td>12.0</td>\n",
              "      <td>2017.0</td>\n",
              "      <td>Domingo</td>\n",
              "      <td>I</td>\n",
              "      <td>JetSmart SPA</td>\n",
              "      <td>Santiago</td>\n",
              "      <td>Lima</td>\n",
              "    </tr>\n",
              "  </tbody>\n",
              "</table>\n",
              "</div>\n",
              "      <button class=\"colab-df-convert\" onclick=\"convertToInteractive('df-2856c69c-c994-4b20-90d6-a199c68c1bdc')\"\n",
              "              title=\"Convert this dataframe to an interactive table.\"\n",
              "              style=\"display:none;\">\n",
              "        \n",
              "  <svg xmlns=\"http://www.w3.org/2000/svg\" height=\"24px\"viewBox=\"0 0 24 24\"\n",
              "       width=\"24px\">\n",
              "    <path d=\"M0 0h24v24H0V0z\" fill=\"none\"/>\n",
              "    <path d=\"M18.56 5.44l.94 2.06.94-2.06 2.06-.94-2.06-.94-.94-2.06-.94 2.06-2.06.94zm-11 1L8.5 8.5l.94-2.06 2.06-.94-2.06-.94L8.5 2.5l-.94 2.06-2.06.94zm10 10l.94 2.06.94-2.06 2.06-.94-2.06-.94-.94-2.06-.94 2.06-2.06.94z\"/><path d=\"M17.41 7.96l-1.37-1.37c-.4-.4-.92-.59-1.43-.59-.52 0-1.04.2-1.43.59L10.3 9.45l-7.72 7.72c-.78.78-.78 2.05 0 2.83L4 21.41c.39.39.9.59 1.41.59.51 0 1.02-.2 1.41-.59l7.78-7.78 2.81-2.81c.8-.78.8-2.07 0-2.86zM5.41 20L4 18.59l7.72-7.72 1.47 1.35L5.41 20z\"/>\n",
              "  </svg>\n",
              "      </button>\n",
              "      \n",
              "  <style>\n",
              "    .colab-df-container {\n",
              "      display:flex;\n",
              "      flex-wrap:wrap;\n",
              "      gap: 12px;\n",
              "    }\n",
              "\n",
              "    .colab-df-convert {\n",
              "      background-color: #E8F0FE;\n",
              "      border: none;\n",
              "      border-radius: 50%;\n",
              "      cursor: pointer;\n",
              "      display: none;\n",
              "      fill: #1967D2;\n",
              "      height: 32px;\n",
              "      padding: 0 0 0 0;\n",
              "      width: 32px;\n",
              "    }\n",
              "\n",
              "    .colab-df-convert:hover {\n",
              "      background-color: #E2EBFA;\n",
              "      box-shadow: 0px 1px 2px rgba(60, 64, 67, 0.3), 0px 1px 3px 1px rgba(60, 64, 67, 0.15);\n",
              "      fill: #174EA6;\n",
              "    }\n",
              "\n",
              "    [theme=dark] .colab-df-convert {\n",
              "      background-color: #3B4455;\n",
              "      fill: #D2E3FC;\n",
              "    }\n",
              "\n",
              "    [theme=dark] .colab-df-convert:hover {\n",
              "      background-color: #434B5C;\n",
              "      box-shadow: 0px 1px 3px 1px rgba(0, 0, 0, 0.15);\n",
              "      filter: drop-shadow(0px 1px 2px rgba(0, 0, 0, 0.3));\n",
              "      fill: #FFFFFF;\n",
              "    }\n",
              "  </style>\n",
              "\n",
              "      <script>\n",
              "        const buttonEl =\n",
              "          document.querySelector('#df-2856c69c-c994-4b20-90d6-a199c68c1bdc button.colab-df-convert');\n",
              "        buttonEl.style.display =\n",
              "          google.colab.kernel.accessAllowed ? 'block' : 'none';\n",
              "\n",
              "        async function convertToInteractive(key) {\n",
              "          const element = document.querySelector('#df-2856c69c-c994-4b20-90d6-a199c68c1bdc');\n",
              "          const dataTable =\n",
              "            await google.colab.kernel.invokeFunction('convertToInteractive',\n",
              "                                                     [key], {});\n",
              "          if (!dataTable) return;\n",
              "\n",
              "          const docLinkHtml = 'Like what you see? Visit the ' +\n",
              "            '<a target=\"_blank\" href=https://colab.research.google.com/notebooks/data_table.ipynb>data table notebook</a>'\n",
              "            + ' to learn more about interactive tables.';\n",
              "          element.innerHTML = '';\n",
              "          dataTable['output_type'] = 'display_data';\n",
              "          await google.colab.output.renderOutput(dataTable, element);\n",
              "          const docLink = document.createElement('div');\n",
              "          docLink.innerHTML = docLinkHtml;\n",
              "          element.appendChild(docLink);\n",
              "        }\n",
              "      </script>\n",
              "    </div>\n",
              "  </div>\n",
              "  "
            ],
            "text/plain": [
              "                   Fecha-I  Vlo-I Ori-I Des-I Emp-I              Fecha-O  \\\n",
              "68201  2017-12-22 14:55:00  400.0  SCEL  SPJC   JAT  2017-12-22 15:41:00   \n",
              "68202  2017-12-25 14:55:00  400.0  SCEL  SPJC   JAT  2017-12-25 15:11:00   \n",
              "68203  2017-12-27 14:55:00  400.0  SCEL  SPJC   JAT  2017-12-27 15:35:00   \n",
              "68204  2017-12-29 14:55:00  400.0  SCEL  SPJC   JAT  2017-12-29 15:08:00   \n",
              "68205  2017-12-31 14:55:00  400.0  SCEL  SPJC   JAT  2017-12-31 15:04:00   \n",
              "\n",
              "       Vlo-O Ori-O Des-O Emp-O   DIA   MES     AÑO     DIANOM TIPOVUELO  \\\n",
              "68201  400.0  SCEL  SPJC   JAT  22.0  12.0  2017.0    Viernes         I   \n",
              "68202  400.0  SCEL  SPJC   JAT  25.0  12.0  2017.0      Lunes         I   \n",
              "68203  400.0  SCEL  SPJC   JAT  27.0  12.0  2017.0  Miercoles         I   \n",
              "68204  400.0  SCEL  SPJC   JAT  29.0  12.0  2017.0    Viernes         I   \n",
              "68205  400.0  SCEL  SPJC   JAT  31.0  12.0  2017.0    Domingo         I   \n",
              "\n",
              "              OPERA  SIGLAORI SIGLADES  \n",
              "68201  JetSmart SPA  Santiago     Lima  \n",
              "68202  JetSmart SPA  Santiago     Lima  \n",
              "68203  JetSmart SPA  Santiago     Lima  \n",
              "68204  JetSmart SPA  Santiago     Lima  \n",
              "68205  JetSmart SPA  Santiago     Lima  "
            ]
          },
          "execution_count": 135,
          "metadata": {},
          "output_type": "execute_result"
        }
      ],
      "source": [
        "# Revisión de los ultimos 5 filas\n",
        "df.tail(5)"
      ]
    },
    {
      "cell_type": "markdown",
      "metadata": {
        "id": "E4_wMGNVe0f5"
      },
      "source": [
        "#Descripción de variables (dado en el problema):\n"
      ]
    },
    {
      "cell_type": "markdown",
      "metadata": {
        "id": "uudxgkpIe_01"
      },
      "source": [
        "\n",
        "\n",
        "\n",
        "*   Fecha-I : Fecha y hora programada del vuelo.\n",
        "\n",
        "*   Vlo-I : Número de vuelo programado. \n",
        "\n",
        "*   Ori-I : Código de ciudad de origen programado.\n",
        "\n",
        "\n",
        "*  Des-I : Código de ciudad de destino programado.\n",
        "*  Emp-I : Código aerolínea de vuelo programado.\n",
        "*  Fecha-O : Fecha y hora de operación del vuelo.\n",
        "*  Vlo-O : Número de vuelo de operación del vuelo.\n",
        "*  Ori-O : Código de ciudad de origen de operación\n",
        "*  Des-O : Código de ciudad de destino de operación.\n",
        "*  Emp-O : Código aerolínea de vuelo operado.\n",
        "*  DIA : Día del mes de operación del vuelo.\n",
        "*  MES : Número de mes de operación del vuelo.\n",
        "*  AÑO : Año de operación del vuelo.\n",
        "*  DIANOM : Día de la semana de operación del vuelo.\n",
        "*  TIPOVUELO : Tipo de vuelo, I =Internacional, N =Nacional.\n",
        "* OPERA : Nombre de aerolínea que opera.\n",
        "* SIGLAORI : Nombre ciudad origen.\n",
        "*  SIGLADES : Nombre ciudad destino\n",
        "\n",
        "\n"
      ]
    },
    {
      "cell_type": "markdown",
      "metadata": {
        "id": "_5CdP1mafw2V"
      },
      "source": [
        "*Variables Fechas*\n",
        "\n",
        "* Fecha-I\n",
        "* Fecha-O \n",
        "* Día\n",
        "* Mes \n",
        "* año ( solo 2017 )\n",
        "\n",
        "*Variables Categoricas*\n",
        "\n",
        "\n",
        "\n",
        "\n",
        "* Vlo-I : Número de vuelo programado.\n",
        "* Ori-I : Código de ciudad de origen programado.\n",
        "* Des-I : Código de ciudad de destino programado.\n",
        "* Emp-I : Código aerolínea de vuelo programado.\n",
        "* Vlo-O : Número de vuelo de operación del vuelo.\n",
        "* Ori-O : Código de ciudad de origen de operación\n",
        "* Des-O : Código de ciudad de destino de operación.\n",
        "* Emp-O : Código aerolínea de vuelo operado.\n",
        "* DIANOM : Día de la semana de operación del vuelo.\n",
        "* TIPOVUELO : Tipo de vuelo, I =Internacional, N =Nacional.\n",
        "* OPERA : Nombre de aerolínea que opera.\n",
        "* SIGLAORI : Nombre ciudad origen.\n",
        "* SIGLADES : Nombre ciudad destino\n"
      ]
    },
    {
      "cell_type": "markdown",
      "metadata": {
        "id": "O4eke-8bhK8y"
      },
      "source": [
        "**Limpieza y tratamiento inicial de datos**\n",
        "\n",
        "A continuación se muestra la limpieza y consideraciones iniciales realizadas sobre los datos entre ellas se encuentran:\n",
        "\n",
        "\n",
        "\n",
        "*   Conversión de fechas a datetime \n",
        "*   Eliminación de nulos en filas con campo Fecha-I, esto debido a que es menos   del 2% de datos y no es representativo para el análisis aca mostrado\n",
        "\n",
        "*   Creación de columna *dif_min* y con esto observar distribuciones iniciales de los datos \n",
        "\n",
        "\n",
        "*   casting a columnas Vlo-O y Vlo-I, esto se hace para que ambas sean el mismo tipo de variable y que puedan ser posteriomente comparadas.\n",
        "\n",
        "\n",
        "\n",
        "\n",
        "\n"
      ]
    },
    {
      "cell_type": "code",
      "execution_count": 136,
      "metadata": {
        "id": "PcfPVWXc9os4"
      },
      "outputs": [],
      "source": [
        "#Convertir fechas de analisis a datetime\n",
        "df['Fecha-I'] = pd.to_datetime(df['Fecha-I'], errors='coerce')"
      ]
    },
    {
      "cell_type": "code",
      "execution_count": 137,
      "metadata": {
        "colab": {
          "base_uri": "https://localhost:8080/"
        },
        "id": "43pZxJBL-ICX",
        "outputId": "26513b8a-c051-4f80-817a-562f8f25c92f"
      },
      "outputs": [
        {
          "name": "stdout",
          "output_type": "stream",
          "text": [
            "Int64Index([17059, 17060, 39316, 55332, 55333, 55334, 55335, 55336, 55337,\n",
            "            55338, 55339, 55340, 55341, 55342, 55363, 61401, 61402, 61403,\n",
            "            61404, 61405, 61406, 61407, 61408, 61409, 61410, 61411, 61412,\n",
            "            67658, 67659, 67660, 67661, 67662, 67663, 67664, 67665, 67666,\n",
            "            67667, 67668, 67669],\n",
            "           dtype='int64')\n"
          ]
        }
      ],
      "source": [
        "#Identificación de nuls en Fecha-I, n ose hace en Fecha-O pues esta no contiene.\n",
        "idx = df[df['Fecha-I'].isnull()].index\n",
        "print (idx)\n"
      ]
    },
    {
      "cell_type": "code",
      "execution_count": 138,
      "metadata": {
        "id": "egILU1-ssyHg"
      },
      "outputs": [],
      "source": [
        "#Elimina columnas filas con Fecha Fecha-I en 0 es menos del 2%datos\n",
        "\n",
        "df.drop([17059, 17060, 39316, 55332, 55333, 55334, 55335, 55336, 55337,\n",
        "            55338, 55339, 55340, 55341, 55342, 55363, 61401, 61402, 61403,\n",
        "            61404, 61405, 61406, 61407, 61408, 61409, 61410, 61411, 61412,\n",
        "            67658, 67659, 67660, 67661, 67662, 67663, 67664, 67665, 67666,\n",
        "            67667, 67668, 67669], axis=0, inplace=True)"
      ]
    },
    {
      "cell_type": "code",
      "execution_count": 139,
      "metadata": {
        "id": "nJlQ83dAnkTp"
      },
      "outputs": [],
      "source": [
        "#Convertir fechas a datetimes para creación de columnas adicionales\n",
        "df['Fecha-I'] = pd.to_datetime(df['Fecha-I'])\n",
        "df['Fecha-O'] = pd.to_datetime(df['Fecha-O'])"
      ]
    },
    {
      "cell_type": "code",
      "execution_count": 140,
      "metadata": {
        "colab": {
          "base_uri": "https://localhost:8080/"
        },
        "id": "T7Z4tOeftlDq",
        "outputId": "ded22bdb-cb47-43f8-9d4d-5a407b7d8498"
      },
      "outputs": [
        {
          "name": "stdout",
          "output_type": "stream",
          "text": [
            "(746,)\n",
            "(863,)\n"
          ]
        }
      ],
      "source": [
        "#Diferencias de valores unicos de vuelos programados y operados\n",
        "print(df[\"Vlo-I\"].unique().shape)\n",
        "print(df[\"Vlo-O\"].unique().shape)"
      ]
    },
    {
      "cell_type": "code",
      "execution_count": 141,
      "metadata": {
        "colab": {
          "base_uri": "https://localhost:8080/"
        },
        "id": "3RH3qdSDtk5T",
        "outputId": "94994703-b7fc-40d5-ffd8-80460f72cefd"
      },
      "outputs": [
        {
          "data": {
            "text/plain": [
              "(1850, 18)"
            ]
          },
          "execution_count": 141,
          "metadata": {},
          "output_type": "execute_result"
        }
      ],
      "source": [
        "#Diferencia entre numero de  vuelo programado y operado\n",
        "df[df['Vlo-I']!=df['Vlo-O']].shape"
      ]
    },
    {
      "cell_type": "code",
      "execution_count": 142,
      "metadata": {
        "colab": {
          "base_uri": "https://localhost:8080/"
        },
        "id": "2pDfjdy1DiZn",
        "outputId": "2369d6bf-1415-4a69-ac56-07d9e32fb648"
      },
      "outputs": [
        {
          "name": "stderr",
          "output_type": "stream",
          "text": [
            "<ipython-input-142-963ef92e1639>:2: FutureWarning: The default value of regex will change from True to False in a future version.\n",
            "  df['Vlo-O']=df['Vlo-O'].astype(str).str.replace('\\.0','')\n",
            "<ipython-input-142-963ef92e1639>:3: FutureWarning: The default value of regex will change from True to False in a future version.\n",
            "  df['Vlo-I']=df['Vlo-I'].astype(str).str.replace('\\.0','')\n"
          ]
        },
        {
          "data": {
            "text/plain": [
              "(120, 18)"
            ]
          },
          "execution_count": 142,
          "metadata": {},
          "output_type": "execute_result"
        }
      ],
      "source": [
        "#Casting y limpieza en Vlo programado y operado y conversion a string para que la comparación sea real dado que algunas tienen .0 al final\n",
        "df['Vlo-O']=df['Vlo-O'].astype(str).str.replace('\\.0','')\n",
        "df['Vlo-I']=df['Vlo-I'].astype(str).str.replace('\\.0','')\n",
        "#Verificar nuevamente la diferencia \n",
        "df[df['Vlo-I']!=df['Vlo-O']].shape\n"
      ]
    },
    {
      "cell_type": "code",
      "execution_count": 143,
      "metadata": {
        "colab": {
          "base_uri": "https://localhost:8080/",
          "height": 36
        },
        "id": "umCBd7zoEH2E",
        "outputId": "1c023a65-b863-42ae-85ae-bc7032153d49"
      },
      "outputs": [
        {
          "data": {
            "application/vnd.google.colaboratory.intrinsic+json": {
              "type": "string"
            },
            "text/plain": [
              "'203'"
            ]
          },
          "execution_count": 143,
          "metadata": {},
          "output_type": "execute_result"
        }
      ],
      "source": [
        "# Verificar cambios en valores posterior al casting \n",
        "df.iloc[68068]['Vlo-I']"
      ]
    },
    {
      "cell_type": "code",
      "execution_count": 144,
      "metadata": {
        "colab": {
          "base_uri": "https://localhost:8080/"
        },
        "id": "Mu9lUwuUtk2s",
        "outputId": "da1d2736-1355-4f19-91ac-02f072386a53"
      },
      "outputs": [
        {
          "name": "stdout",
          "output_type": "stream",
          "text": [
            "2017-01-01 00:15:00\n",
            "2017-12-31 23:55:00\n",
            "2017-01-01 00:04:00\n",
            "2018-01-01 00:12:00\n"
          ]
        }
      ],
      "source": [
        "#Revisión de fecha max y min se encuentra 1 vuelo del 2018\n",
        "print(df['Fecha-I'].min())\n",
        "print(df['Fecha-I'].max())\n",
        "print(df['Fecha-O'].min())\n",
        "print(df['Fecha-O'].max())"
      ]
    },
    {
      "cell_type": "markdown",
      "metadata": {
        "id": "1HNTUPcIlqRL"
      },
      "source": [
        "## **1) ¿Cómo se distribuyen los datos?**"
      ]
    },
    {
      "cell_type": "markdown",
      "metadata": {
        "id": "RV32-fFDmbKf"
      },
      "source": [
        "Para esta primera parte es importante revisar como se distribuyen los vuelos en el tiempo, por mes, semana y días. Por lo anterior se usara dos graficos de mapa de calor que daran cuenta sobre el comportamiento de los vuelos en el tiempo."
      ]
    },
    {
      "cell_type": "code",
      "execution_count": null,
      "metadata": {},
      "outputs": [],
      "source": [
        "%%capture\n",
        "!pip install calplot\n",
        "!pip install seaborn\n",
        "!pip install july\n",
        "!pip install scipy"
      ]
    },
    {
      "cell_type": "code",
      "execution_count": 146,
      "metadata": {
        "id": "BZIPSWNtma_v"
      },
      "outputs": [],
      "source": [
        "#Importar paquete y librerias necesarias para creación de graficas\n",
        "\n",
        "import matplotlib.pyplot as plt\n",
        "import seaborn as sns\n",
        "import calplot"
      ]
    },
    {
      "cell_type": "code",
      "execution_count": 147,
      "metadata": {
        "id": "6RwKrrP-l2AQ"
      },
      "outputs": [],
      "source": [
        "#Creación de copia de df para ser usado solo para las graficas de distribución de datos\n",
        "dfe=df.copy()"
      ]
    },
    {
      "cell_type": "code",
      "execution_count": 148,
      "metadata": {
        "id": "NR-5p4Uml18X"
      },
      "outputs": [],
      "source": [
        "#Creación de columnas\n",
        "dfe['Fecha_plan'] = pd.to_datetime(dfe['Fecha-I']).dt.date\n",
        "dfe['Fecha_plan2'] = pd.to_datetime(dfe['Fecha-I']).dt.date\n",
        "dfe[\"cantidad\"]=1"
      ]
    },
    {
      "cell_type": "code",
      "execution_count": 149,
      "metadata": {
        "id": "Erxksjo-l1uY"
      },
      "outputs": [],
      "source": [
        "#Cambio en el tipo de variable\n",
        "dfe['Fecha_plan2'] = pd.to_datetime(dfe['Fecha_plan2'])\n",
        "#Reordenar el indice \n",
        "dfe.set_index('Fecha_plan2', inplace = True)"
      ]
    },
    {
      "cell_type": "code",
      "execution_count": 150,
      "metadata": {
        "colab": {
          "base_uri": "https://localhost:8080/",
          "height": 321
        },
        "id": "ogoxhVbhlp_C",
        "outputId": "afe26534-969d-46a4-8ea0-6c7d4d03741c"
      },
      "outputs": [
        {
          "data": {
            "image/png": "[encoded data removed]",
            "text/plain": [
              "<Figure size 1600x400 with 1 Axes>"
            ]
          },
          "metadata": {
            "needs_background": "light"
          },
          "output_type": "display_data"
        }
      ],
      "source": [
        "#creación del mapa de calor #1\n",
        "pl1 = calplot.calplot(data = dfe[\"cantidad\"],how = 'sum', cmap = 'Reds', figsize = (16, 4), suptitle = \"Mapa de calor vuelos programados por mes\")"
      ]
    },
    {
      "cell_type": "code",
      "execution_count": 151,
      "metadata": {
        "colab": {
          "base_uri": "https://localhost:8080/",
          "height": 916
        },
        "id": "oIrf95h-onax",
        "outputId": "b407245f-b322-49a2-d385-10a468ad6a3b"
      },
      "outputs": [
        {
          "name": "stdout",
          "output_type": "stream",
          "text": [
            "Looking in indexes: https://pypi.org/simple, https://us-python.pkg.dev/colab-wheels/public/simple/\n",
            "Requirement already satisfied: july in /usr/local/lib/python3.8/dist-packages (0.1.3)\n",
            "Requirement already satisfied: matplotlib in /usr/local/lib/python3.8/dist-packages (from july) (3.2.2)\n",
            "Requirement already satisfied: numpy in /usr/local/lib/python3.8/dist-packages (from july) (1.21.6)\n",
            "Requirement already satisfied: pyparsing!=2.0.4,!=2.1.2,!=2.1.6,>=2.0.1 in /usr/local/lib/python3.8/dist-packages (from matplotlib->july) (3.0.9)\n",
            "Requirement already satisfied: python-dateutil>=2.1 in /usr/local/lib/python3.8/dist-packages (from matplotlib->july) (2.8.2)\n",
            "Requirement already satisfied: kiwisolver>=1.0.1 in /usr/local/lib/python3.8/dist-packages (from matplotlib->july) (1.4.4)\n",
            "Requirement already satisfied: cycler>=0.10 in /usr/local/lib/python3.8/dist-packages (from matplotlib->july) (0.11.0)\n",
            "Requirement already satisfied: six>=1.5 in /usr/local/lib/python3.8/dist-packages (from python-dateutil>=2.1->matplotlib->july) (1.15.0)\n"
          ]
        },
        {
          "data": {
            "image/png": "[encoded data removed]",
            "text/plain": [
              "<Figure size 1400x800 with 12 Axes>"
            ]
          },
          "metadata": {
            "needs_background": "light"
          },
          "output_type": "display_data"
        }
      ],
      "source": [
        "#Creació de mapa de calor 2\n",
        "import july\n",
        "from july.utils import date_range\n",
        "df_cmap= dfe['Fecha_plan'].value_counts().rename_axis('Fechas_conteo').reset_index(name='cantidad')\n",
        "july.calendar_plot(df_cmap.Fechas_conteo, data = df_cmap[\"cantidad\"], cmap = 'golden');"
      ]
    },
    {
      "cell_type": "markdown",
      "metadata": {
        "id": "wgzmkW4fqe7m"
      },
      "source": [
        "**Los mapa de calor**\n",
        "\n",
        " Los “heatmaps”  son una representación gráfica de datos donde los valores se representan mediante color segun la su ocurrencia, y observar donde se tiene  mayor concentración de valores \n",
        "\n",
        "\n",
        "Los anteriores mapas de calor son una muestra inicial de como estan distribuidos nuestros datos y en que meses, dias y temporalidades estos se encuentran.\n",
        "\n",
        "Se observa:\n",
        "\n",
        "Sobre los meses:\n",
        "\n",
        "*   Los meses con mayor cantidad de vuelos programados son concentrados en los meses de noviembre, diciembre y enero. Siendo **diciembre** donde se concentran la mayoria de vuelos\n",
        "\n",
        "*  Los meses con menor concentración de vuelos programados son abril, mayo y junio. \n",
        "\n",
        "Sobre los días:\n",
        "\n",
        "*   Los días con mayor frecuencia de vuelo programado son Viernes, jueves y lunes\n",
        "*   Los días de menor frecuencia de vuelo programado son: martes, miercoles y Sabado.\n",
        "\n",
        "\n",
        "\n",
        "\n",
        "\n",
        "\n"
      ]
    },
    {
      "cell_type": "markdown",
      "metadata": {
        "id": "YZ1JZkiWqeyF"
      },
      "source": [
        "Variable retraso"
      ]
    },
    {
      "cell_type": "markdown",
      "metadata": {
        "id": "mTJtSHE8tYi_"
      },
      "source": [
        "Cómo se distribuye la variable retraso. Desde este punto se creara una variable retraso 'dif_min', la cual es la difenrencia entre Fecha-O y Fecha-I en minutos. Se considera que dada la naturaleza del objetivo de la presente desafio, identificar como se distribuye esta variable ayudara a la compresión de como se comportan los retrasos"
      ]
    },
    {
      "cell_type": "code",
      "execution_count": 152,
      "metadata": {
        "id": "tIlIOK2rkkOF"
      },
      "outputs": [],
      "source": [
        "dfe['dif_min'] = (dfe['Fecha-O'] - dfe['Fecha-I'])\n",
        "dfe['dif_min'] = (dfe['Fecha-O'] - dfe['Fecha-I'])/ pd.Timedelta('1 minutes')\n"
      ]
    },
    {
      "cell_type": "code",
      "execution_count": 153,
      "metadata": {
        "colab": {
          "base_uri": "https://localhost:8080/",
          "height": 361
        },
        "id": "bzbNPqJlttua",
        "outputId": "a6b4a194-3070-44aa-f294-b38b227f6139"
      },
      "outputs": [
        {
          "data": {
            "image/png": "[encoded data removed]",
            "text/plain": [
              "<Figure size 600x400 with 1 Axes>"
            ]
          },
          "metadata": {
            "needs_background": "light"
          },
          "output_type": "display_data"
        }
      ],
      "source": [
        "# Distribución de variavle 'dif_min'\n",
        "dfe['dif_min'].plot.hist(alpha = 0.5);"
      ]
    },
    {
      "cell_type": "markdown",
      "metadata": {
        "id": "3udaH5cyyGQv"
      },
      "source": [
        "La anterior grafica nos muestra un histograma en forma de J, dado que la mayoria de datos se presentan en un extremo nos da indicios que posiblemente nuestra variable 'dif_min' no se distribuya de manera normal,\n",
        "\n",
        "\n",
        "Esto puede indicarnos que en su mayoria los tiempos de retraso cuando llegan a ocurrir  son muy prolongados.\n",
        "\n",
        "A continuación se revisara las medidas de tendencia central para esta variable:"
      ]
    },
    {
      "cell_type": "code",
      "execution_count": 154,
      "metadata": {
        "colab": {
          "base_uri": "https://localhost:8080/"
        },
        "id": "hgVB8g-jqCl_",
        "outputId": "2b1acb62-6938-4ad1-ca66-4d7199611c60"
      },
      "outputs": [
        {
          "name": "stdout",
          "output_type": "stream",
          "text": [
            "\n",
            "    Media: 9\n",
            "    Mediana: 4\n",
            "    Moda: 0\n",
            "\n"
          ]
        }
      ],
      "source": [
        "#Calculo de medidas de tendencia central iniciales\n",
        "\n",
        "media = dfe['dif_min'].mean()\n",
        "mediana = dfe['dif_min'].median()\n",
        "moda = dfe['dif_min'].mode()\n",
        "print(\"\"\"\n",
        "    Media: %d\n",
        "    Mediana: %d\n",
        "    Moda: %d\n",
        "\"\"\" % (media,mediana,moda))"
      ]
    },
    {
      "cell_type": "markdown",
      "metadata": {
        "id": "ueH0Fucgzx8b"
      },
      "source": [
        "Las anteriores medidas de tendencia central nos indican:\n",
        "\n",
        "\n",
        "\n",
        "*   El promedio del tiempo de retrado de los vuelos es de 9 minutos posterior a la hora programada ( se debe revisar los valores extremos)\n",
        "*   La mediana nos indica el valor que dentro del conjunto de la variable es menor que el 50% de los datos y mayor que el 50% restante.\n",
        "*   Se tiene como moda el valor de 0 lo cual indica que es el valor que mas se repite y esto quiere decir que se ha cumplido la hora programada, dado que no hay diferencia con la operada.\n",
        "\n",
        "\n",
        "A continuación otras medidas que nos pueden indicar esta variable como esta distribuida\n",
        "\n",
        "\n",
        "\n"
      ]
    },
    {
      "cell_type": "code",
      "execution_count": 155,
      "metadata": {
        "colab": {
          "base_uri": "https://localhost:8080/"
        },
        "id": "rEgyYwpNqCjI",
        "outputId": "859a6db9-ee08-4f19-ef4e-8cf934aeb221"
      },
      "outputs": [
        {
          "name": "stdout",
          "output_type": "stream",
          "text": [
            "19.3080951680855\n",
            "3.553538462672623\n",
            "175.0\n",
            "13.0\n",
            "19.3080951680855\n",
            "372.8025390198466\n",
            "3.553538462672623\n"
          ]
        }
      ],
      "source": [
        "#calculo de medidas de tendencia central restantes. \n",
        "import scipy.stats as ss\n",
        "std = dfe[\"dif_min\"].std(ddof=0)\n",
        "var = dfe[\"dif_min\"].var(ddof=0)\n",
        "assert(np.sqrt(var) == std)\n",
        "rango = dfe[\"dif_min\"].max() - dfe[\"dif_min\"].min()\n",
        "iqr = dfe[\"dif_min\"].quantile(0.75) - dfe[\"dif_min\"].quantile(0.25)\n",
        "asimetria = ss.skew(dfe[\"dif_min\"])\n",
        "\n",
        "print(std )\n",
        "print(asimetria)\n",
        "print(rango)\n",
        "print(iqr)\n",
        "print(std)\n",
        "print(var)\n",
        "print(asimetria)"
      ]
    },
    {
      "cell_type": "markdown",
      "metadata": {
        "id": "0pAmXh7r3Tj7"
      },
      "source": [
        "Las medidas de tendencia central anteriores nos dan muestra que los datos se encuentran dispersos en relación a la media, adicionalmente tambien se encuentra que esta variable es altamente asimentrica ( esto se confirma por lo mostrado en el histograma) "
      ]
    },
    {
      "cell_type": "markdown",
      "metadata": {
        "id": "H73F3m-i3Ruy"
      },
      "source": [
        "## **2. Genera las columnas adicionales y luego expórtelas en un archivo synthetic_features.csv :**"
      ]
    },
    {
      "cell_type": "markdown",
      "metadata": {
        "id": "RvyZM0Ex5urP"
      },
      "source": [
        "A continuación se muestra el procesamiento realizado para crear las variables solicitadas para este apartado: \n",
        "\n",
        "\n",
        "\n",
        "\n",
        "*   *temporada_alta*: 1 si Fecha-I está entre 15-Dic y 3-Mar, o 15-Jul y 31-Jul, o 11-Sep y 30-Sep, 0 si no.\n",
        "*   *dif_min :* diferencia en minutos entre Fecha-O y Fecha-I .\n",
        "*   *atraso_15 :* 1 si dif_min > 15, 0 si no.\n",
        "*   *periodo_dia :*mañana (entre 5:00 y 11:59), tarde (entre 12:00 y 18:59) y noche (entre 19:00 y 4:59), en base a\n",
        "Fecha-I .\n",
        "\n",
        "\n",
        "  "
      ]
    },
    {
      "cell_type": "code",
      "execution_count": 156,
      "metadata": {
        "colab": {
          "base_uri": "https://localhost:8080/",
          "height": 206
        },
        "id": "g1LGXbxUC0Zw",
        "outputId": "709704d1-3469-4f30-b55d-81ca62fef18e"
      },
      "outputs": [
        {
          "data": {
            "text/html": [
              "\n",
              "  <div id=\"df-8186ad66-1c4a-4f9b-bf31-e978f245dfb9\">\n",
              "    <div class=\"colab-df-container\">\n",
              "      <div>\n",
              "<style scoped>\n",
              "    .dataframe tbody tr th:only-of-type {\n",
              "        vertical-align: middle;\n",
              "    }\n",
              "\n",
              "    .dataframe tbody tr th {\n",
              "        vertical-align: top;\n",
              "    }\n",
              "\n",
              "    .dataframe thead th {\n",
              "        text-align: right;\n",
              "    }\n",
              "</style>\n",
              "<table border=\"1\" class=\"dataframe\">\n",
              "  <thead>\n",
              "    <tr style=\"text-align: right;\">\n",
              "      <th></th>\n",
              "      <th>Fecha-I</th>\n",
              "      <th>Vlo-I</th>\n",
              "      <th>Ori-I</th>\n",
              "      <th>Des-I</th>\n",
              "      <th>Emp-I</th>\n",
              "      <th>Fecha-O</th>\n",
              "      <th>Vlo-O</th>\n",
              "      <th>Ori-O</th>\n",
              "      <th>Des-O</th>\n",
              "      <th>Emp-O</th>\n",
              "      <th>DIA</th>\n",
              "      <th>MES</th>\n",
              "      <th>AÑO</th>\n",
              "      <th>DIANOM</th>\n",
              "      <th>TIPOVUELO</th>\n",
              "      <th>OPERA</th>\n",
              "      <th>SIGLAORI</th>\n",
              "      <th>SIGLADES</th>\n",
              "      <th>dif_min</th>\n",
              "    </tr>\n",
              "  </thead>\n",
              "  <tbody>\n",
              "    <tr>\n",
              "      <th>0</th>\n",
              "      <td>2017-01-01 23:30:00</td>\n",
              "      <td>226</td>\n",
              "      <td>SCEL</td>\n",
              "      <td>KMIA</td>\n",
              "      <td>AAL</td>\n",
              "      <td>2017-01-01 23:33:00</td>\n",
              "      <td>226</td>\n",
              "      <td>SCEL</td>\n",
              "      <td>KMIA</td>\n",
              "      <td>AAL</td>\n",
              "      <td>1.0</td>\n",
              "      <td>1.0</td>\n",
              "      <td>2017.0</td>\n",
              "      <td>Domingo</td>\n",
              "      <td>I</td>\n",
              "      <td>American Airlines</td>\n",
              "      <td>Santiago</td>\n",
              "      <td>Miami</td>\n",
              "      <td>3.0</td>\n",
              "    </tr>\n",
              "    <tr>\n",
              "      <th>1</th>\n",
              "      <td>2017-01-02 23:30:00</td>\n",
              "      <td>226</td>\n",
              "      <td>SCEL</td>\n",
              "      <td>KMIA</td>\n",
              "      <td>AAL</td>\n",
              "      <td>2017-01-02 23:39:00</td>\n",
              "      <td>226</td>\n",
              "      <td>SCEL</td>\n",
              "      <td>KMIA</td>\n",
              "      <td>AAL</td>\n",
              "      <td>2.0</td>\n",
              "      <td>1.0</td>\n",
              "      <td>2017.0</td>\n",
              "      <td>Lunes</td>\n",
              "      <td>I</td>\n",
              "      <td>American Airlines</td>\n",
              "      <td>Santiago</td>\n",
              "      <td>Miami</td>\n",
              "      <td>9.0</td>\n",
              "    </tr>\n",
              "    <tr>\n",
              "      <th>2</th>\n",
              "      <td>2017-01-03 23:30:00</td>\n",
              "      <td>226</td>\n",
              "      <td>SCEL</td>\n",
              "      <td>KMIA</td>\n",
              "      <td>AAL</td>\n",
              "      <td>2017-01-03 23:39:00</td>\n",
              "      <td>226</td>\n",
              "      <td>SCEL</td>\n",
              "      <td>KMIA</td>\n",
              "      <td>AAL</td>\n",
              "      <td>3.0</td>\n",
              "      <td>1.0</td>\n",
              "      <td>2017.0</td>\n",
              "      <td>Martes</td>\n",
              "      <td>I</td>\n",
              "      <td>American Airlines</td>\n",
              "      <td>Santiago</td>\n",
              "      <td>Miami</td>\n",
              "      <td>9.0</td>\n",
              "    </tr>\n",
              "    <tr>\n",
              "      <th>3</th>\n",
              "      <td>2017-01-04 23:30:00</td>\n",
              "      <td>226</td>\n",
              "      <td>SCEL</td>\n",
              "      <td>KMIA</td>\n",
              "      <td>AAL</td>\n",
              "      <td>2017-01-04 23:33:00</td>\n",
              "      <td>226</td>\n",
              "      <td>SCEL</td>\n",
              "      <td>KMIA</td>\n",
              "      <td>AAL</td>\n",
              "      <td>4.0</td>\n",
              "      <td>1.0</td>\n",
              "      <td>2017.0</td>\n",
              "      <td>Miercoles</td>\n",
              "      <td>I</td>\n",
              "      <td>American Airlines</td>\n",
              "      <td>Santiago</td>\n",
              "      <td>Miami</td>\n",
              "      <td>3.0</td>\n",
              "    </tr>\n",
              "    <tr>\n",
              "      <th>4</th>\n",
              "      <td>2017-01-05 23:30:00</td>\n",
              "      <td>226</td>\n",
              "      <td>SCEL</td>\n",
              "      <td>KMIA</td>\n",
              "      <td>AAL</td>\n",
              "      <td>2017-01-05 23:28:00</td>\n",
              "      <td>226</td>\n",
              "      <td>SCEL</td>\n",
              "      <td>KMIA</td>\n",
              "      <td>AAL</td>\n",
              "      <td>5.0</td>\n",
              "      <td>1.0</td>\n",
              "      <td>2017.0</td>\n",
              "      <td>Jueves</td>\n",
              "      <td>I</td>\n",
              "      <td>American Airlines</td>\n",
              "      <td>Santiago</td>\n",
              "      <td>Miami</td>\n",
              "      <td>-2.0</td>\n",
              "    </tr>\n",
              "  </tbody>\n",
              "</table>\n",
              "</div>\n",
              "      <button class=\"colab-df-convert\" onclick=\"convertToInteractive('df-8186ad66-1c4a-4f9b-bf31-e978f245dfb9')\"\n",
              "              title=\"Convert this dataframe to an interactive table.\"\n",
              "              style=\"display:none;\">\n",
              "        \n",
              "  <svg xmlns=\"http://www.w3.org/2000/svg\" height=\"24px\"viewBox=\"0 0 24 24\"\n",
              "       width=\"24px\">\n",
              "    <path d=\"M0 0h24v24H0V0z\" fill=\"none\"/>\n",
              "    <path d=\"M18.56 5.44l.94 2.06.94-2.06 2.06-.94-2.06-.94-.94-2.06-.94 2.06-2.06.94zm-11 1L8.5 8.5l.94-2.06 2.06-.94-2.06-.94L8.5 2.5l-.94 2.06-2.06.94zm10 10l.94 2.06.94-2.06 2.06-.94-2.06-.94-.94-2.06-.94 2.06-2.06.94z\"/><path d=\"M17.41 7.96l-1.37-1.37c-.4-.4-.92-.59-1.43-.59-.52 0-1.04.2-1.43.59L10.3 9.45l-7.72 7.72c-.78.78-.78 2.05 0 2.83L4 21.41c.39.39.9.59 1.41.59.51 0 1.02-.2 1.41-.59l7.78-7.78 2.81-2.81c.8-.78.8-2.07 0-2.86zM5.41 20L4 18.59l7.72-7.72 1.47 1.35L5.41 20z\"/>\n",
              "  </svg>\n",
              "      </button>\n",
              "      \n",
              "  <style>\n",
              "    .colab-df-container {\n",
              "      display:flex;\n",
              "      flex-wrap:wrap;\n",
              "      gap: 12px;\n",
              "    }\n",
              "\n",
              "    .colab-df-convert {\n",
              "      background-color: #E8F0FE;\n",
              "      border: none;\n",
              "      border-radius: 50%;\n",
              "      cursor: pointer;\n",
              "      display: none;\n",
              "      fill: #1967D2;\n",
              "      height: 32px;\n",
              "      padding: 0 0 0 0;\n",
              "      width: 32px;\n",
              "    }\n",
              "\n",
              "    .colab-df-convert:hover {\n",
              "      background-color: #E2EBFA;\n",
              "      box-shadow: 0px 1px 2px rgba(60, 64, 67, 0.3), 0px 1px 3px 1px rgba(60, 64, 67, 0.15);\n",
              "      fill: #174EA6;\n",
              "    }\n",
              "\n",
              "    [theme=dark] .colab-df-convert {\n",
              "      background-color: #3B4455;\n",
              "      fill: #D2E3FC;\n",
              "    }\n",
              "\n",
              "    [theme=dark] .colab-df-convert:hover {\n",
              "      background-color: #434B5C;\n",
              "      box-shadow: 0px 1px 3px 1px rgba(0, 0, 0, 0.15);\n",
              "      filter: drop-shadow(0px 1px 2px rgba(0, 0, 0, 0.3));\n",
              "      fill: #FFFFFF;\n",
              "    }\n",
              "  </style>\n",
              "\n",
              "      <script>\n",
              "        const buttonEl =\n",
              "          document.querySelector('#df-8186ad66-1c4a-4f9b-bf31-e978f245dfb9 button.colab-df-convert');\n",
              "        buttonEl.style.display =\n",
              "          google.colab.kernel.accessAllowed ? 'block' : 'none';\n",
              "\n",
              "        async function convertToInteractive(key) {\n",
              "          const element = document.querySelector('#df-8186ad66-1c4a-4f9b-bf31-e978f245dfb9');\n",
              "          const dataTable =\n",
              "            await google.colab.kernel.invokeFunction('convertToInteractive',\n",
              "                                                     [key], {});\n",
              "          if (!dataTable) return;\n",
              "\n",
              "          const docLinkHtml = 'Like what you see? Visit the ' +\n",
              "            '<a target=\"_blank\" href=https://colab.research.google.com/notebooks/data_table.ipynb>data table notebook</a>'\n",
              "            + ' to learn more about interactive tables.';\n",
              "          element.innerHTML = '';\n",
              "          dataTable['output_type'] = 'display_data';\n",
              "          await google.colab.output.renderOutput(dataTable, element);\n",
              "          const docLink = document.createElement('div');\n",
              "          docLink.innerHTML = docLinkHtml;\n",
              "          element.appendChild(docLink);\n",
              "        }\n",
              "      </script>\n",
              "    </div>\n",
              "  </div>\n",
              "  "
            ],
            "text/plain": [
              "              Fecha-I Vlo-I Ori-I Des-I Emp-I             Fecha-O Vlo-O Ori-O  \\\n",
              "0 2017-01-01 23:30:00   226  SCEL  KMIA   AAL 2017-01-01 23:33:00   226  SCEL   \n",
              "1 2017-01-02 23:30:00   226  SCEL  KMIA   AAL 2017-01-02 23:39:00   226  SCEL   \n",
              "2 2017-01-03 23:30:00   226  SCEL  KMIA   AAL 2017-01-03 23:39:00   226  SCEL   \n",
              "3 2017-01-04 23:30:00   226  SCEL  KMIA   AAL 2017-01-04 23:33:00   226  SCEL   \n",
              "4 2017-01-05 23:30:00   226  SCEL  KMIA   AAL 2017-01-05 23:28:00   226  SCEL   \n",
              "\n",
              "  Des-O Emp-O  DIA  MES     AÑO     DIANOM TIPOVUELO              OPERA  \\\n",
              "0  KMIA   AAL  1.0  1.0  2017.0    Domingo         I  American Airlines   \n",
              "1  KMIA   AAL  2.0  1.0  2017.0      Lunes         I  American Airlines   \n",
              "2  KMIA   AAL  3.0  1.0  2017.0     Martes         I  American Airlines   \n",
              "3  KMIA   AAL  4.0  1.0  2017.0  Miercoles         I  American Airlines   \n",
              "4  KMIA   AAL  5.0  1.0  2017.0     Jueves         I  American Airlines   \n",
              "\n",
              "   SIGLAORI SIGLADES  dif_min  \n",
              "0  Santiago    Miami      3.0  \n",
              "1  Santiago    Miami      9.0  \n",
              "2  Santiago    Miami      9.0  \n",
              "3  Santiago    Miami      3.0  \n",
              "4  Santiago    Miami     -2.0  "
            ]
          },
          "execution_count": 156,
          "metadata": {},
          "output_type": "execute_result"
        }
      ],
      "source": [
        "#Creación columna dif_min\n",
        "df['dif_min'] = (df['Fecha-O'] - df['Fecha-I'])\n",
        "df['dif_min'] = (df['Fecha-O'] - df['Fecha-I'])/ pd.Timedelta('1 minutes')\n",
        "df.head(5)"
      ]
    },
    {
      "cell_type": "code",
      "execution_count": 157,
      "metadata": {
        "id": "Bk_QxlVtC0V5"
      },
      "outputs": [],
      "source": [
        "#Creación columna temporada_alta\n",
        "df['temporada_alta']=df['Fecha-I'].map(lambda x:1 if (x >datetime.strptime('2016-12-15','%Y-%m-%d') \n",
        "and x < datetime.strptime('2017-03-1','%Y-%m-%d')) else 1 if (x >datetime.strptime('2017-07-15','%Y-%m-%d')\n",
        "and x < datetime.strptime('2017-07-31','%Y-%m-%d')) else 1 if (x >datetime.strptime('2017-09-11','%Y-%m-%d')\n",
        "and x < datetime.strptime('2017-09-30','%Y-%m-%d')) else 1 if (x >datetime.strptime('2017-12-15','%Y-%m-%d') \n",
        "and x < datetime.strptime('2018-03-1','%Y-%m-%d')) \n",
        "  else 0)"
      ]
    },
    {
      "cell_type": "code",
      "execution_count": 158,
      "metadata": {
        "colab": {
          "base_uri": "https://localhost:8080/"
        },
        "id": "9JW3DWEgC0Sy",
        "outputId": "6585a61c-0737-4b9a-9ef1-c1f95d187a20"
      },
      "outputs": [
        {
          "data": {
            "text/plain": [
              "0    46349\n",
              "1    21818\n",
              "Name: temporada_alta, dtype: int64"
            ]
          },
          "execution_count": 158,
          "metadata": {},
          "output_type": "execute_result"
        }
      ],
      "source": [
        "#Conteo cantidad temporada alta o no\n",
        "df['temporada_alta'].value_counts()"
      ]
    },
    {
      "cell_type": "code",
      "execution_count": 159,
      "metadata": {
        "id": "1H8W32RRC0P_"
      },
      "outputs": [],
      "source": [
        "#Creación columna atraso_15\n",
        "df['atraso_15']=df['dif_min'].map(lambda x:1 if x > 15  else 0)"
      ]
    },
    {
      "cell_type": "code",
      "execution_count": 160,
      "metadata": {
        "id": "EYxgmzAwC0KO"
      },
      "outputs": [],
      "source": [
        "#Creación columna aux_hora para calcular columna periodo_dia\n",
        "df['aux_hora']=df['Fecha-I'].dt.time\n",
        "#Creación columna periodo_día\n",
        "df['periodo_dia']=df['aux_hora'].map(lambda x:'mañana' if (\n",
        "    x > datetime.strptime('05:00:00','%H:%M:%S').time() and \n",
        "    x < datetime.strptime('11:59:00','%H:%M:%S').time()) \n",
        "else 'tarde' if (x > datetime.strptime('12:00:00','%H:%M:%S').time() and \n",
        "    x < datetime.strptime('18:59:00','%H:%M:%S').time()) else 'noche')  "
      ]
    },
    {
      "cell_type": "code",
      "execution_count": 161,
      "metadata": {
        "colab": {
          "base_uri": "https://localhost:8080/",
          "height": 820
        },
        "id": "sUSvx6FxC0Hi",
        "outputId": "8b746308-c06f-4ad0-b164-864a5edeaf99"
      },
      "outputs": [
        {
          "data": {
            "text/html": [
              "\n",
              "  <div id=\"df-8f9e6c2d-8b8b-4b1e-bd6a-e25c3ea45806\">\n",
              "    <div class=\"colab-df-container\">\n",
              "      <div>\n",
              "<style scoped>\n",
              "    .dataframe tbody tr th:only-of-type {\n",
              "        vertical-align: middle;\n",
              "    }\n",
              "\n",
              "    .dataframe tbody tr th {\n",
              "        vertical-align: top;\n",
              "    }\n",
              "\n",
              "    .dataframe thead th {\n",
              "        text-align: right;\n",
              "    }\n",
              "</style>\n",
              "<table border=\"1\" class=\"dataframe\">\n",
              "  <thead>\n",
              "    <tr style=\"text-align: right;\">\n",
              "      <th></th>\n",
              "      <th>Fecha-I</th>\n",
              "      <th>Vlo-I</th>\n",
              "      <th>Ori-I</th>\n",
              "      <th>Des-I</th>\n",
              "      <th>Emp-I</th>\n",
              "      <th>Fecha-O</th>\n",
              "      <th>Vlo-O</th>\n",
              "      <th>Ori-O</th>\n",
              "      <th>Des-O</th>\n",
              "      <th>Emp-O</th>\n",
              "      <th>...</th>\n",
              "      <th>DIANOM</th>\n",
              "      <th>TIPOVUELO</th>\n",
              "      <th>OPERA</th>\n",
              "      <th>SIGLAORI</th>\n",
              "      <th>SIGLADES</th>\n",
              "      <th>dif_min</th>\n",
              "      <th>temporada_alta</th>\n",
              "      <th>atraso_15</th>\n",
              "      <th>aux_hora</th>\n",
              "      <th>periodo_dia</th>\n",
              "    </tr>\n",
              "  </thead>\n",
              "  <tbody>\n",
              "    <tr>\n",
              "      <th>30171</th>\n",
              "      <td>2017-06-30 14:00:00</td>\n",
              "      <td>211</td>\n",
              "      <td>SCEL</td>\n",
              "      <td>SCIE</td>\n",
              "      <td>LAN</td>\n",
              "      <td>2017-06-30 14:24:00</td>\n",
              "      <td>211</td>\n",
              "      <td>SCEL</td>\n",
              "      <td>SCIE</td>\n",
              "      <td>LXP</td>\n",
              "      <td>...</td>\n",
              "      <td>Viernes</td>\n",
              "      <td>N</td>\n",
              "      <td>Grupo LATAM</td>\n",
              "      <td>Santiago</td>\n",
              "      <td>Concepcion</td>\n",
              "      <td>24.0</td>\n",
              "      <td>0</td>\n",
              "      <td>1</td>\n",
              "      <td>14:00:00</td>\n",
              "      <td>tarde</td>\n",
              "    </tr>\n",
              "    <tr>\n",
              "      <th>23477</th>\n",
              "      <td>2017-05-28 18:10:00</td>\n",
              "      <td>57</td>\n",
              "      <td>SCEL</td>\n",
              "      <td>SCQP</td>\n",
              "      <td>SKU</td>\n",
              "      <td>2017-05-28 18:23:00</td>\n",
              "      <td>57</td>\n",
              "      <td>SCEL</td>\n",
              "      <td>SCQP</td>\n",
              "      <td>SKU</td>\n",
              "      <td>...</td>\n",
              "      <td>Domingo</td>\n",
              "      <td>N</td>\n",
              "      <td>Sky Airline</td>\n",
              "      <td>Santiago</td>\n",
              "      <td>Temuco</td>\n",
              "      <td>13.0</td>\n",
              "      <td>0</td>\n",
              "      <td>0</td>\n",
              "      <td>18:10:00</td>\n",
              "      <td>tarde</td>\n",
              "    </tr>\n",
              "    <tr>\n",
              "      <th>39552</th>\n",
              "      <td>2017-08-18 14:20:00</td>\n",
              "      <td>8137</td>\n",
              "      <td>SCEL</td>\n",
              "      <td>SBGL</td>\n",
              "      <td>TAM</td>\n",
              "      <td>2017-08-18 14:41:00</td>\n",
              "      <td>8137</td>\n",
              "      <td>SCEL</td>\n",
              "      <td>SBGL</td>\n",
              "      <td>TAM</td>\n",
              "      <td>...</td>\n",
              "      <td>Viernes</td>\n",
              "      <td>I</td>\n",
              "      <td>Grupo LATAM</td>\n",
              "      <td>Santiago</td>\n",
              "      <td>Rio de Janeiro</td>\n",
              "      <td>21.0</td>\n",
              "      <td>0</td>\n",
              "      <td>1</td>\n",
              "      <td>14:20:00</td>\n",
              "      <td>tarde</td>\n",
              "    </tr>\n",
              "    <tr>\n",
              "      <th>63286</th>\n",
              "      <td>2017-12-18 15:10:00</td>\n",
              "      <td>43</td>\n",
              "      <td>SCEL</td>\n",
              "      <td>SCVD</td>\n",
              "      <td>SKU</td>\n",
              "      <td>2017-12-18 16:06:00</td>\n",
              "      <td>43</td>\n",
              "      <td>SCEL</td>\n",
              "      <td>SCVD</td>\n",
              "      <td>SKU</td>\n",
              "      <td>...</td>\n",
              "      <td>Lunes</td>\n",
              "      <td>N</td>\n",
              "      <td>Sky Airline</td>\n",
              "      <td>Santiago</td>\n",
              "      <td>Valdivia</td>\n",
              "      <td>56.0</td>\n",
              "      <td>1</td>\n",
              "      <td>1</td>\n",
              "      <td>15:10:00</td>\n",
              "      <td>tarde</td>\n",
              "    </tr>\n",
              "    <tr>\n",
              "      <th>30122</th>\n",
              "      <td>2017-06-16 10:10:00</td>\n",
              "      <td>207</td>\n",
              "      <td>SCEL</td>\n",
              "      <td>SCIE</td>\n",
              "      <td>LAN</td>\n",
              "      <td>2017-06-16 10:15:00</td>\n",
              "      <td>207</td>\n",
              "      <td>SCEL</td>\n",
              "      <td>SCIE</td>\n",
              "      <td>LXP</td>\n",
              "      <td>...</td>\n",
              "      <td>Viernes</td>\n",
              "      <td>N</td>\n",
              "      <td>Grupo LATAM</td>\n",
              "      <td>Santiago</td>\n",
              "      <td>Concepcion</td>\n",
              "      <td>5.0</td>\n",
              "      <td>0</td>\n",
              "      <td>0</td>\n",
              "      <td>10:10:00</td>\n",
              "      <td>mañana</td>\n",
              "    </tr>\n",
              "    <tr>\n",
              "      <th>29824</th>\n",
              "      <td>2017-06-01 14:50:00</td>\n",
              "      <td>152</td>\n",
              "      <td>SCEL</td>\n",
              "      <td>SCSE</td>\n",
              "      <td>LAN</td>\n",
              "      <td>2017-06-01 14:54:00</td>\n",
              "      <td>152</td>\n",
              "      <td>SCEL</td>\n",
              "      <td>SCSE</td>\n",
              "      <td>LAN</td>\n",
              "      <td>...</td>\n",
              "      <td>Jueves</td>\n",
              "      <td>N</td>\n",
              "      <td>Grupo LATAM</td>\n",
              "      <td>Santiago</td>\n",
              "      <td>La Serena</td>\n",
              "      <td>4.0</td>\n",
              "      <td>0</td>\n",
              "      <td>0</td>\n",
              "      <td>14:50:00</td>\n",
              "      <td>tarde</td>\n",
              "    </tr>\n",
              "    <tr>\n",
              "      <th>35792</th>\n",
              "      <td>2017-07-16 19:25:00</td>\n",
              "      <td>221</td>\n",
              "      <td>SCEL</td>\n",
              "      <td>SCIE</td>\n",
              "      <td>LAN</td>\n",
              "      <td>2017-07-16 20:42:00</td>\n",
              "      <td>221</td>\n",
              "      <td>SCEL</td>\n",
              "      <td>SCIE</td>\n",
              "      <td>LXP</td>\n",
              "      <td>...</td>\n",
              "      <td>Domingo</td>\n",
              "      <td>N</td>\n",
              "      <td>Grupo LATAM</td>\n",
              "      <td>Santiago</td>\n",
              "      <td>Concepcion</td>\n",
              "      <td>77.0</td>\n",
              "      <td>1</td>\n",
              "      <td>1</td>\n",
              "      <td>19:25:00</td>\n",
              "      <td>noche</td>\n",
              "    </tr>\n",
              "    <tr>\n",
              "      <th>31877</th>\n",
              "      <td>2017-06-10 07:25:00</td>\n",
              "      <td>750</td>\n",
              "      <td>SCEL</td>\n",
              "      <td>SBGR</td>\n",
              "      <td>LAN</td>\n",
              "      <td>2017-06-10 07:31:00</td>\n",
              "      <td>750</td>\n",
              "      <td>SCEL</td>\n",
              "      <td>SBGR</td>\n",
              "      <td>LAN</td>\n",
              "      <td>...</td>\n",
              "      <td>Sabado</td>\n",
              "      <td>I</td>\n",
              "      <td>Grupo LATAM</td>\n",
              "      <td>Santiago</td>\n",
              "      <td>Sao Paulo</td>\n",
              "      <td>6.0</td>\n",
              "      <td>0</td>\n",
              "      <td>0</td>\n",
              "      <td>07:25:00</td>\n",
              "      <td>mañana</td>\n",
              "    </tr>\n",
              "    <tr>\n",
              "      <th>52627</th>\n",
              "      <td>2017-10-27 07:16:00</td>\n",
              "      <td>162</td>\n",
              "      <td>SCEL</td>\n",
              "      <td>SCDA</td>\n",
              "      <td>LAN</td>\n",
              "      <td>2017-10-27 07:27:00</td>\n",
              "      <td>162</td>\n",
              "      <td>SCEL</td>\n",
              "      <td>SCDA</td>\n",
              "      <td>LAN</td>\n",
              "      <td>...</td>\n",
              "      <td>Viernes</td>\n",
              "      <td>N</td>\n",
              "      <td>Grupo LATAM</td>\n",
              "      <td>Santiago</td>\n",
              "      <td>Iquique</td>\n",
              "      <td>11.0</td>\n",
              "      <td>0</td>\n",
              "      <td>0</td>\n",
              "      <td>07:16:00</td>\n",
              "      <td>mañana</td>\n",
              "    </tr>\n",
              "    <tr>\n",
              "      <th>40614</th>\n",
              "      <td>2017-08-09 12:00:00</td>\n",
              "      <td>507</td>\n",
              "      <td>SCEL</td>\n",
              "      <td>SAEZ</td>\n",
              "      <td>SKU</td>\n",
              "      <td>2017-08-09 12:02:00</td>\n",
              "      <td>507</td>\n",
              "      <td>SCEL</td>\n",
              "      <td>SAEZ</td>\n",
              "      <td>SKU</td>\n",
              "      <td>...</td>\n",
              "      <td>Miercoles</td>\n",
              "      <td>I</td>\n",
              "      <td>Sky Airline</td>\n",
              "      <td>Santiago</td>\n",
              "      <td>Buenos Aires</td>\n",
              "      <td>2.0</td>\n",
              "      <td>0</td>\n",
              "      <td>0</td>\n",
              "      <td>12:00:00</td>\n",
              "      <td>noche</td>\n",
              "    </tr>\n",
              "  </tbody>\n",
              "</table>\n",
              "<p>10 rows × 23 columns</p>\n",
              "</div>\n",
              "      <button class=\"colab-df-convert\" onclick=\"convertToInteractive('df-8f9e6c2d-8b8b-4b1e-bd6a-e25c3ea45806')\"\n",
              "              title=\"Convert this dataframe to an interactive table.\"\n",
              "              style=\"display:none;\">\n",
              "        \n",
              "  <svg xmlns=\"http://www.w3.org/2000/svg\" height=\"24px\"viewBox=\"0 0 24 24\"\n",
              "       width=\"24px\">\n",
              "    <path d=\"M0 0h24v24H0V0z\" fill=\"none\"/>\n",
              "    <path d=\"M18.56 5.44l.94 2.06.94-2.06 2.06-.94-2.06-.94-.94-2.06-.94 2.06-2.06.94zm-11 1L8.5 8.5l.94-2.06 2.06-.94-2.06-.94L8.5 2.5l-.94 2.06-2.06.94zm10 10l.94 2.06.94-2.06 2.06-.94-2.06-.94-.94-2.06-.94 2.06-2.06.94z\"/><path d=\"M17.41 7.96l-1.37-1.37c-.4-.4-.92-.59-1.43-.59-.52 0-1.04.2-1.43.59L10.3 9.45l-7.72 7.72c-.78.78-.78 2.05 0 2.83L4 21.41c.39.39.9.59 1.41.59.51 0 1.02-.2 1.41-.59l7.78-7.78 2.81-2.81c.8-.78.8-2.07 0-2.86zM5.41 20L4 18.59l7.72-7.72 1.47 1.35L5.41 20z\"/>\n",
              "  </svg>\n",
              "      </button>\n",
              "      \n",
              "  <style>\n",
              "    .colab-df-container {\n",
              "      display:flex;\n",
              "      flex-wrap:wrap;\n",
              "      gap: 12px;\n",
              "    }\n",
              "\n",
              "    .colab-df-convert {\n",
              "      background-color: #E8F0FE;\n",
              "      border: none;\n",
              "      border-radius: 50%;\n",
              "      cursor: pointer;\n",
              "      display: none;\n",
              "      fill: #1967D2;\n",
              "      height: 32px;\n",
              "      padding: 0 0 0 0;\n",
              "      width: 32px;\n",
              "    }\n",
              "\n",
              "    .colab-df-convert:hover {\n",
              "      background-color: #E2EBFA;\n",
              "      box-shadow: 0px 1px 2px rgba(60, 64, 67, 0.3), 0px 1px 3px 1px rgba(60, 64, 67, 0.15);\n",
              "      fill: #174EA6;\n",
              "    }\n",
              "\n",
              "    [theme=dark] .colab-df-convert {\n",
              "      background-color: #3B4455;\n",
              "      fill: #D2E3FC;\n",
              "    }\n",
              "\n",
              "    [theme=dark] .colab-df-convert:hover {\n",
              "      background-color: #434B5C;\n",
              "      box-shadow: 0px 1px 3px 1px rgba(0, 0, 0, 0.15);\n",
              "      filter: drop-shadow(0px 1px 2px rgba(0, 0, 0, 0.3));\n",
              "      fill: #FFFFFF;\n",
              "    }\n",
              "  </style>\n",
              "\n",
              "      <script>\n",
              "        const buttonEl =\n",
              "          document.querySelector('#df-8f9e6c2d-8b8b-4b1e-bd6a-e25c3ea45806 button.colab-df-convert');\n",
              "        buttonEl.style.display =\n",
              "          google.colab.kernel.accessAllowed ? 'block' : 'none';\n",
              "\n",
              "        async function convertToInteractive(key) {\n",
              "          const element = document.querySelector('#df-8f9e6c2d-8b8b-4b1e-bd6a-e25c3ea45806');\n",
              "          const dataTable =\n",
              "            await google.colab.kernel.invokeFunction('convertToInteractive',\n",
              "                                                     [key], {});\n",
              "          if (!dataTable) return;\n",
              "\n",
              "          const docLinkHtml = 'Like what you see? Visit the ' +\n",
              "            '<a target=\"_blank\" href=https://colab.research.google.com/notebooks/data_table.ipynb>data table notebook</a>'\n",
              "            + ' to learn more about interactive tables.';\n",
              "          element.innerHTML = '';\n",
              "          dataTable['output_type'] = 'display_data';\n",
              "          await google.colab.output.renderOutput(dataTable, element);\n",
              "          const docLink = document.createElement('div');\n",
              "          docLink.innerHTML = docLinkHtml;\n",
              "          element.appendChild(docLink);\n",
              "        }\n",
              "      </script>\n",
              "    </div>\n",
              "  </div>\n",
              "  "
            ],
            "text/plain": [
              "                  Fecha-I Vlo-I Ori-I Des-I Emp-I             Fecha-O Vlo-O  \\\n",
              "30171 2017-06-30 14:00:00   211  SCEL  SCIE   LAN 2017-06-30 14:24:00   211   \n",
              "23477 2017-05-28 18:10:00    57  SCEL  SCQP   SKU 2017-05-28 18:23:00    57   \n",
              "39552 2017-08-18 14:20:00  8137  SCEL  SBGL   TAM 2017-08-18 14:41:00  8137   \n",
              "63286 2017-12-18 15:10:00    43  SCEL  SCVD   SKU 2017-12-18 16:06:00    43   \n",
              "30122 2017-06-16 10:10:00   207  SCEL  SCIE   LAN 2017-06-16 10:15:00   207   \n",
              "29824 2017-06-01 14:50:00   152  SCEL  SCSE   LAN 2017-06-01 14:54:00   152   \n",
              "35792 2017-07-16 19:25:00   221  SCEL  SCIE   LAN 2017-07-16 20:42:00   221   \n",
              "31877 2017-06-10 07:25:00   750  SCEL  SBGR   LAN 2017-06-10 07:31:00   750   \n",
              "52627 2017-10-27 07:16:00   162  SCEL  SCDA   LAN 2017-10-27 07:27:00   162   \n",
              "40614 2017-08-09 12:00:00   507  SCEL  SAEZ   SKU 2017-08-09 12:02:00   507   \n",
              "\n",
              "      Ori-O Des-O Emp-O  ...     DIANOM  TIPOVUELO        OPERA  SIGLAORI  \\\n",
              "30171  SCEL  SCIE   LXP  ...    Viernes          N  Grupo LATAM  Santiago   \n",
              "23477  SCEL  SCQP   SKU  ...    Domingo          N  Sky Airline  Santiago   \n",
              "39552  SCEL  SBGL   TAM  ...    Viernes          I  Grupo LATAM  Santiago   \n",
              "63286  SCEL  SCVD   SKU  ...      Lunes          N  Sky Airline  Santiago   \n",
              "30122  SCEL  SCIE   LXP  ...    Viernes          N  Grupo LATAM  Santiago   \n",
              "29824  SCEL  SCSE   LAN  ...     Jueves          N  Grupo LATAM  Santiago   \n",
              "35792  SCEL  SCIE   LXP  ...    Domingo          N  Grupo LATAM  Santiago   \n",
              "31877  SCEL  SBGR   LAN  ...     Sabado          I  Grupo LATAM  Santiago   \n",
              "52627  SCEL  SCDA   LAN  ...    Viernes          N  Grupo LATAM  Santiago   \n",
              "40614  SCEL  SAEZ   SKU  ...  Miercoles          I  Sky Airline  Santiago   \n",
              "\n",
              "             SIGLADES dif_min temporada_alta atraso_15  aux_hora  periodo_dia  \n",
              "30171      Concepcion    24.0              0         1  14:00:00        tarde  \n",
              "23477          Temuco    13.0              0         0  18:10:00        tarde  \n",
              "39552  Rio de Janeiro    21.0              0         1  14:20:00        tarde  \n",
              "63286        Valdivia    56.0              1         1  15:10:00        tarde  \n",
              "30122      Concepcion     5.0              0         0  10:10:00       mañana  \n",
              "29824       La Serena     4.0              0         0  14:50:00        tarde  \n",
              "35792      Concepcion    77.0              1         1  19:25:00        noche  \n",
              "31877       Sao Paulo     6.0              0         0  07:25:00       mañana  \n",
              "52627         Iquique    11.0              0         0  07:16:00       mañana  \n",
              "40614    Buenos Aires     2.0              0         0  12:00:00        noche  \n",
              "\n",
              "[10 rows x 23 columns]"
            ]
          },
          "execution_count": 161,
          "metadata": {},
          "output_type": "execute_result"
        }
      ],
      "source": [
        "#Verificación de columnas creadas sobre el df para una muestra aleatoria\n",
        "df.sample(10)"
      ]
    },
    {
      "cell_type": "code",
      "execution_count": 162,
      "metadata": {
        "id": "Us_60hQAGJEM"
      },
      "outputs": [],
      "source": [
        "# se elimina columna 'aux_hora' para exportar achivo en limpio\n",
        "df=df.drop(['aux_hora'], axis=1)"
      ]
    },
    {
      "cell_type": "code",
      "execution_count": 163,
      "metadata": {
        "colab": {
          "base_uri": "https://localhost:8080/",
          "height": 423
        },
        "id": "2u6BXh2WC0ET",
        "outputId": "3429c58f-bad1-4b03-b72a-fe6c04e64348"
      },
      "outputs": [
        {
          "data": {
            "text/html": [
              "\n",
              "  <div id=\"df-2e0b81b2-06ee-40e4-9429-1e23cce0563a\">\n",
              "    <div class=\"colab-df-container\">\n",
              "      <div>\n",
              "<style scoped>\n",
              "    .dataframe tbody tr th:only-of-type {\n",
              "        vertical-align: middle;\n",
              "    }\n",
              "\n",
              "    .dataframe tbody tr th {\n",
              "        vertical-align: top;\n",
              "    }\n",
              "\n",
              "    .dataframe thead th {\n",
              "        text-align: right;\n",
              "    }\n",
              "</style>\n",
              "<table border=\"1\" class=\"dataframe\">\n",
              "  <thead>\n",
              "    <tr style=\"text-align: right;\">\n",
              "      <th></th>\n",
              "      <th>temporada_alta</th>\n",
              "      <th>dif_min</th>\n",
              "      <th>atraso_15</th>\n",
              "      <th>periodo_dia</th>\n",
              "    </tr>\n",
              "  </thead>\n",
              "  <tbody>\n",
              "    <tr>\n",
              "      <th>0</th>\n",
              "      <td>1</td>\n",
              "      <td>3.0</td>\n",
              "      <td>0</td>\n",
              "      <td>noche</td>\n",
              "    </tr>\n",
              "    <tr>\n",
              "      <th>1</th>\n",
              "      <td>1</td>\n",
              "      <td>9.0</td>\n",
              "      <td>0</td>\n",
              "      <td>noche</td>\n",
              "    </tr>\n",
              "    <tr>\n",
              "      <th>2</th>\n",
              "      <td>1</td>\n",
              "      <td>9.0</td>\n",
              "      <td>0</td>\n",
              "      <td>noche</td>\n",
              "    </tr>\n",
              "    <tr>\n",
              "      <th>3</th>\n",
              "      <td>1</td>\n",
              "      <td>3.0</td>\n",
              "      <td>0</td>\n",
              "      <td>noche</td>\n",
              "    </tr>\n",
              "    <tr>\n",
              "      <th>4</th>\n",
              "      <td>1</td>\n",
              "      <td>-2.0</td>\n",
              "      <td>0</td>\n",
              "      <td>noche</td>\n",
              "    </tr>\n",
              "    <tr>\n",
              "      <th>...</th>\n",
              "      <td>...</td>\n",
              "      <td>...</td>\n",
              "      <td>...</td>\n",
              "      <td>...</td>\n",
              "    </tr>\n",
              "    <tr>\n",
              "      <th>68201</th>\n",
              "      <td>1</td>\n",
              "      <td>46.0</td>\n",
              "      <td>1</td>\n",
              "      <td>tarde</td>\n",
              "    </tr>\n",
              "    <tr>\n",
              "      <th>68202</th>\n",
              "      <td>1</td>\n",
              "      <td>16.0</td>\n",
              "      <td>1</td>\n",
              "      <td>tarde</td>\n",
              "    </tr>\n",
              "    <tr>\n",
              "      <th>68203</th>\n",
              "      <td>1</td>\n",
              "      <td>40.0</td>\n",
              "      <td>1</td>\n",
              "      <td>tarde</td>\n",
              "    </tr>\n",
              "    <tr>\n",
              "      <th>68204</th>\n",
              "      <td>1</td>\n",
              "      <td>13.0</td>\n",
              "      <td>0</td>\n",
              "      <td>tarde</td>\n",
              "    </tr>\n",
              "    <tr>\n",
              "      <th>68205</th>\n",
              "      <td>1</td>\n",
              "      <td>9.0</td>\n",
              "      <td>0</td>\n",
              "      <td>tarde</td>\n",
              "    </tr>\n",
              "  </tbody>\n",
              "</table>\n",
              "<p>68167 rows × 4 columns</p>\n",
              "</div>\n",
              "      <button class=\"colab-df-convert\" onclick=\"convertToInteractive('df-2e0b81b2-06ee-40e4-9429-1e23cce0563a')\"\n",
              "              title=\"Convert this dataframe to an interactive table.\"\n",
              "              style=\"display:none;\">\n",
              "        \n",
              "  <svg xmlns=\"http://www.w3.org/2000/svg\" height=\"24px\"viewBox=\"0 0 24 24\"\n",
              "       width=\"24px\">\n",
              "    <path d=\"M0 0h24v24H0V0z\" fill=\"none\"/>\n",
              "    <path d=\"M18.56 5.44l.94 2.06.94-2.06 2.06-.94-2.06-.94-.94-2.06-.94 2.06-2.06.94zm-11 1L8.5 8.5l.94-2.06 2.06-.94-2.06-.94L8.5 2.5l-.94 2.06-2.06.94zm10 10l.94 2.06.94-2.06 2.06-.94-2.06-.94-.94-2.06-.94 2.06-2.06.94z\"/><path d=\"M17.41 7.96l-1.37-1.37c-.4-.4-.92-.59-1.43-.59-.52 0-1.04.2-1.43.59L10.3 9.45l-7.72 7.72c-.78.78-.78 2.05 0 2.83L4 21.41c.39.39.9.59 1.41.59.51 0 1.02-.2 1.41-.59l7.78-7.78 2.81-2.81c.8-.78.8-2.07 0-2.86zM5.41 20L4 18.59l7.72-7.72 1.47 1.35L5.41 20z\"/>\n",
              "  </svg>\n",
              "      </button>\n",
              "      \n",
              "  <style>\n",
              "    .colab-df-container {\n",
              "      display:flex;\n",
              "      flex-wrap:wrap;\n",
              "      gap: 12px;\n",
              "    }\n",
              "\n",
              "    .colab-df-convert {\n",
              "      background-color: #E8F0FE;\n",
              "      border: none;\n",
              "      border-radius: 50%;\n",
              "      cursor: pointer;\n",
              "      display: none;\n",
              "      fill: #1967D2;\n",
              "      height: 32px;\n",
              "      padding: 0 0 0 0;\n",
              "      width: 32px;\n",
              "    }\n",
              "\n",
              "    .colab-df-convert:hover {\n",
              "      background-color: #E2EBFA;\n",
              "      box-shadow: 0px 1px 2px rgba(60, 64, 67, 0.3), 0px 1px 3px 1px rgba(60, 64, 67, 0.15);\n",
              "      fill: #174EA6;\n",
              "    }\n",
              "\n",
              "    [theme=dark] .colab-df-convert {\n",
              "      background-color: #3B4455;\n",
              "      fill: #D2E3FC;\n",
              "    }\n",
              "\n",
              "    [theme=dark] .colab-df-convert:hover {\n",
              "      background-color: #434B5C;\n",
              "      box-shadow: 0px 1px 3px 1px rgba(0, 0, 0, 0.15);\n",
              "      filter: drop-shadow(0px 1px 2px rgba(0, 0, 0, 0.3));\n",
              "      fill: #FFFFFF;\n",
              "    }\n",
              "  </style>\n",
              "\n",
              "      <script>\n",
              "        const buttonEl =\n",
              "          document.querySelector('#df-2e0b81b2-06ee-40e4-9429-1e23cce0563a button.colab-df-convert');\n",
              "        buttonEl.style.display =\n",
              "          google.colab.kernel.accessAllowed ? 'block' : 'none';\n",
              "\n",
              "        async function convertToInteractive(key) {\n",
              "          const element = document.querySelector('#df-2e0b81b2-06ee-40e4-9429-1e23cce0563a');\n",
              "          const dataTable =\n",
              "            await google.colab.kernel.invokeFunction('convertToInteractive',\n",
              "                                                     [key], {});\n",
              "          if (!dataTable) return;\n",
              "\n",
              "          const docLinkHtml = 'Like what you see? Visit the ' +\n",
              "            '<a target=\"_blank\" href=https://colab.research.google.com/notebooks/data_table.ipynb>data table notebook</a>'\n",
              "            + ' to learn more about interactive tables.';\n",
              "          element.innerHTML = '';\n",
              "          dataTable['output_type'] = 'display_data';\n",
              "          await google.colab.output.renderOutput(dataTable, element);\n",
              "          const docLink = document.createElement('div');\n",
              "          docLink.innerHTML = docLinkHtml;\n",
              "          element.appendChild(docLink);\n",
              "        }\n",
              "      </script>\n",
              "    </div>\n",
              "  </div>\n",
              "  "
            ],
            "text/plain": [
              "       temporada_alta  dif_min  atraso_15 periodo_dia\n",
              "0                   1      3.0          0       noche\n",
              "1                   1      9.0          0       noche\n",
              "2                   1      9.0          0       noche\n",
              "3                   1      3.0          0       noche\n",
              "4                   1     -2.0          0       noche\n",
              "...               ...      ...        ...         ...\n",
              "68201               1     46.0          1       tarde\n",
              "68202               1     16.0          1       tarde\n",
              "68203               1     40.0          1       tarde\n",
              "68204               1     13.0          0       tarde\n",
              "68205               1      9.0          0       tarde\n",
              "\n",
              "[68167 rows x 4 columns]"
            ]
          },
          "execution_count": 163,
          "metadata": {},
          "output_type": "execute_result"
        }
      ],
      "source": [
        "#Verificación de columnas creadas para exportar archivo synthetic_features.csv\n",
        "df[['temporada_alta','dif_min','atraso_15','periodo_dia']]"
      ]
    },
    {
      "cell_type": "code",
      "execution_count": 164,
      "metadata": {
        "id": "iO5DCBovC0Bj"
      },
      "outputs": [],
      "source": [
        "#Exportar archivo synthetic_features.csv\n",
        "df[['temporada_alta','dif_min','atraso_15','periodo_dia']].to_csv('synthetic_features.csv',index=False)"
      ]
    },
    {
      "cell_type": "code",
      "execution_count": 165,
      "metadata": {
        "colab": {
          "base_uri": "https://localhost:8080/"
        },
        "id": "zALRV7O0MFHu",
        "outputId": "46ae1e39-a9ab-44f3-b78c-724f492c34c9"
      },
      "outputs": [
        {
          "data": {
            "text/plain": [
              "0    55561\n",
              "1    12606\n",
              "Name: atraso_15, dtype: int64"
            ]
          },
          "execution_count": 165,
          "metadata": {},
          "output_type": "execute_result"
        }
      ],
      "source": [
        "#Verificación cantidad sobre nuestra variable a predecir atraso_15\n",
        "df['atraso_15'].value_counts()"
      ]
    },
    {
      "cell_type": "code",
      "execution_count": 166,
      "metadata": {
        "colab": {
          "base_uri": "https://localhost:8080/"
        },
        "id": "puxhQexdCz-T",
        "outputId": "3168f5b9-73e5-4ebf-f6cb-5ec87f0ba3ec"
      },
      "outputs": [
        {
          "data": {
            "text/plain": [
              "0    0.815072\n",
              "1    0.184928\n",
              "Name: atraso_15, dtype: float64"
            ]
          },
          "execution_count": 166,
          "metadata": {},
          "output_type": "execute_result"
        }
      ],
      "source": [
        "#Verificación cantidad sobre nuestra variable a predecir atraso_15\n",
        "df['atraso_15'].value_counts(normalize=True)"
      ]
    },
    {
      "cell_type": "code",
      "execution_count": 167,
      "metadata": {
        "colab": {
          "base_uri": "https://localhost:8080/",
          "height": 361
        },
        "id": "t4hNSYkvCz7V",
        "outputId": "0312a035-0565-4d86-a1a9-3bb0619ff237"
      },
      "outputs": [
        {
          "data": {
            "image/png": "[encoded data removed]",
            "text/plain": [
              "<Figure size 600x400 with 1 Axes>"
            ]
          },
          "metadata": {
            "needs_background": "light"
          },
          "output_type": "display_data"
        }
      ],
      "source": [
        "df['atraso_15'].plot.hist(alpha = 0.5); #hisrograma para variable a predecir atraso_15"
      ]
    },
    {
      "cell_type": "code",
      "execution_count": 168,
      "metadata": {
        "colab": {
          "base_uri": "https://localhost:8080/",
          "height": 410
        },
        "id": "ld0FPpHaCz2Q",
        "outputId": "28840576-a0c6-454d-b7fd-f2a1865c3d9e"
      },
      "outputs": [
        {
          "data": {
            "image/png": "[encoded data removed]",
            "text/plain": [
              "<Figure size 600x400 with 1 Axes>"
            ]
          },
          "metadata": {
            "needs_background": "light"
          },
          "output_type": "display_data"
        }
      ],
      "source": [
        "plot = df['atraso_15'].value_counts().plot(kind='bar', alpha = 0.5,\n",
        "                                            title='conteo vuelos retrasado' )"
      ]
    },
    {
      "cell_type": "markdown",
      "metadata": {
        "id": "kAPyUrbhG4w6"
      },
      "source": [
        "\n",
        "**Consideración:** \n",
        "Para el desarrollo del la presente prueba se tomara como retraso cuando el valor de la variable atraso_15 es mayor a 15 minutos.\n",
        "\n",
        "Finalmente para este punto se verifico la cantidad y proporción de la variable 'atraso_15' Se observa que en su mayoria los vuelos para el periodo de tiempo del 2017 salieron sin un retraso mayor a 15 minutos. Por lo cual el histograma muestra que la variable se encuentra no balanceada y esto puede influir en los modelos de predicción a utilizar."
      ]
    },
    {
      "cell_type": "markdown",
      "metadata": {
        "id": "jmhvV1CpH4hf"
      },
      "source": [
        "# 3) ¿Cómo se compone la tasa de atraso por destino, aerolínea, mes del año, día de la semana, temporada, tipo de vuelo? ¿Qué variables esperarías que más influyeran en predecir atrasos?"
      ]
    },
    {
      "cell_type": "markdown",
      "metadata": {
        "id": "86uGix5GI5AN"
      },
      "source": [
        "A continuación se mostrara como se compone la tasa de atraso para las diferentes variables presentes en los datos. Se comenzara con una tasa general, y se realizara luego una a una por las diferentes varibles. Finalmente se mostrara el top 10 de los vuelos con mayor tasa de atraso y el top 10 de aerolinea con mayor tasa de retraso"
      ]
    },
    {
      "cell_type": "code",
      "execution_count": 169,
      "metadata": {
        "colab": {
          "base_uri": "https://localhost:8080/"
        },
        "id": "2xbR00_ZqCgA",
        "outputId": "1b3673b0-6b41-4a07-ea98-e0c5d86e8186"
      },
      "outputs": [
        {
          "data": {
            "text/plain": [
              "0    0.815072\n",
              "1    0.184928\n",
              "Name: atraso_15, dtype: float64"
            ]
          },
          "execution_count": 169,
          "metadata": {},
          "output_type": "execute_result"
        }
      ],
      "source": [
        "dfa=df.copy()\n",
        "# tasa de atraso Global:\n",
        "dfa['atraso_15'].value_counts(normalize=True)"
      ]
    },
    {
      "cell_type": "markdown",
      "metadata": {
        "id": "pn6NvMSTJpLl"
      },
      "source": [
        "**Tasa de atraso global**\n",
        "\n",
        "Se observa que el 18% de los vuelos presentes en los datos sufrio de un atraso. "
      ]
    },
    {
      "cell_type": "code",
      "execution_count": 170,
      "metadata": {
        "id": "H5QKq_ZEKSym"
      },
      "outputs": [],
      "source": [
        "#Se filtra solo los vuelos con retraso\n",
        "dfa = dfa[dfa.atraso_15.isin([1])]\n"
      ]
    },
    {
      "cell_type": "code",
      "execution_count": 171,
      "metadata": {
        "colab": {
          "base_uri": "https://localhost:8080/"
        },
        "id": "B8u4amGuKSvx",
        "outputId": "064cbf10-a641-46db-97f8-bf607be8d829"
      },
      "outputs": [
        {
          "data": {
            "text/plain": [
              "1    12606\n",
              "Name: atraso_15, dtype: int64"
            ]
          },
          "execution_count": 171,
          "metadata": {},
          "output_type": "execute_result"
        }
      ],
      "source": [
        "#Conteo total de los vuelos retrasados \n",
        "dfa['atraso_15'].value_counts()"
      ]
    },
    {
      "cell_type": "markdown",
      "metadata": {
        "id": "URvPeQTWYhnd"
      },
      "source": [
        "**Tasa de atraso por tipo de vuelo**"
      ]
    },
    {
      "cell_type": "code",
      "execution_count": 172,
      "metadata": {
        "colab": {
          "base_uri": "https://localhost:8080/",
          "height": 410
        },
        "id": "eJXDa6pNRJdV",
        "outputId": "0663a58a-6be1-4611-8133-d231f0c1886b"
      },
      "outputs": [
        {
          "data": {
            "image/png": "[encoded data removed]",
            "text/plain": [
              "<Figure size 600x400 with 1 Axes>"
            ]
          },
          "metadata": {
            "needs_background": "light"
          },
          "output_type": "display_data"
        }
      ],
      "source": [
        "#Tasa de retrso por tipo de vuelo %\n",
        "plot = (100 * dfa['TIPOVUELO'].value_counts() / len(dfa['TIPOVUELO'])).plot(\n",
        "kind='bar', title='%Tasa de atraso por tipo de vuelo', alpha = 0.5)"
      ]
    },
    {
      "cell_type": "code",
      "execution_count": 173,
      "metadata": {
        "colab": {
          "base_uri": "https://localhost:8080/"
        },
        "id": "hWRpXy1KTp5M",
        "outputId": "6fe53d38-2d33-4ea1-fadc-5b2adfaa5538"
      },
      "outputs": [
        {
          "data": {
            "text/plain": [
              "I    0.558464\n",
              "N    0.441536\n",
              "Name: TIPOVUELO, dtype: float64"
            ]
          },
          "execution_count": 173,
          "metadata": {},
          "output_type": "execute_result"
        }
      ],
      "source": [
        "#Proporción de retraso por tipo de vuelo\n",
        "dfa['TIPOVUELO'].value_counts(normalize=True)"
      ]
    },
    {
      "cell_type": "markdown",
      "metadata": {
        "id": "4LtIPrptY56d"
      },
      "source": [
        "**Tasa de atraso por destino programado**"
      ]
    },
    {
      "cell_type": "code",
      "execution_count": 174,
      "metadata": {
        "colab": {
          "base_uri": "https://localhost:8080/",
          "height": 516
        },
        "id": "jSP0OW_2XA4-",
        "outputId": "e7f5bafc-94ac-4b4b-868b-476cef0f8a5c"
      },
      "outputs": [
        {
          "data": {
            "image/png": "[encoded data removed]",
            "text/plain": [
              "<Figure size 1500x500 with 1 Axes>"
            ]
          },
          "metadata": {
            "needs_background": "light"
          },
          "output_type": "display_data"
        }
      ],
      "source": [
        "# Tasa de retrso por destino programado\n",
        "plot = (100 * dfa['Des-I'].value_counts() / len(dfa['Des-I'])).plot(\n",
        "kind='bar', title='% 0, Tasa de atraso por destino programado', alpha = 0.5,figsize=(15,5))"
      ]
    },
    {
      "cell_type": "code",
      "execution_count": 175,
      "metadata": {
        "colab": {
          "base_uri": "https://localhost:8080/"
        },
        "id": "ZLPHvzSNSbDx",
        "outputId": "c8ccd36d-a296-48a5-f125-92bf4b383697"
      },
      "outputs": [
        {
          "data": {
            "text/plain": [
              "SPJC    0.096303\n",
              "SBGR    0.069887\n",
              "SCFA    0.067190\n",
              "SABE    0.065842\n",
              "SAEZ    0.062669\n",
              "Name: Des-I, dtype: float64"
            ]
          },
          "execution_count": 175,
          "metadata": {},
          "output_type": "execute_result"
        }
      ],
      "source": [
        "#Proporción de retraso por destino\n",
        "dfa['Des-I'].value_counts(normalize=True).head(5)"
      ]
    },
    {
      "cell_type": "markdown",
      "metadata": {
        "id": "LcUebVb0aOJ-"
      },
      "source": []
    },
    {
      "cell_type": "code",
      "execution_count": 176,
      "metadata": {
        "colab": {
          "base_uri": "https://localhost:8080/",
          "height": 507
        },
        "id": "MXO6ABjqRJZE",
        "outputId": "bb469ceb-eb23-47b5-d7f5-4c1b05582378"
      },
      "outputs": [
        {
          "data": {
            "image/png": "[encoded data removed]",
            "text/plain": [
              "<Figure size 1500x500 with 1 Axes>"
            ]
          },
          "metadata": {
            "needs_background": "light"
          },
          "output_type": "display_data"
        }
      ],
      "source": [
        "# Tasa de retrso por código de aerolinea programado \n",
        "plot = (100 * dfa['Emp-I'].value_counts() / len(dfa['Emp-I'])).plot(\n",
        "kind='bar', title='%  Tasa de atraso por código de aerolina programado', alpha = 0.5,figsize=(15,5))"
      ]
    },
    {
      "cell_type": "code",
      "execution_count": 177,
      "metadata": {
        "colab": {
          "base_uri": "https://localhost:8080/"
        },
        "id": "3eSxZ9gIRJPs",
        "outputId": "0b6603e4-1fbe-4eca-c11b-421177b156ee"
      },
      "outputs": [
        {
          "data": {
            "text/plain": [
              "LAN    0.511264\n",
              "SKU    0.201491\n",
              "TAM    0.061875\n",
              "LAW    0.050928\n",
              "ARG    0.037125\n",
              "Name: Emp-I, dtype: float64"
            ]
          },
          "execution_count": 177,
          "metadata": {},
          "output_type": "execute_result"
        }
      ],
      "source": [
        "#Proporción de retraso por código de aerolinea \n",
        "dfa['Emp-I'].value_counts(normalize=True).head(5)"
      ]
    },
    {
      "cell_type": "code",
      "execution_count": 178,
      "metadata": {
        "colab": {
          "base_uri": "https://localhost:8080/"
        },
        "id": "fQaukgpmAYzU",
        "outputId": "131cb00c-bb23-43f6-f835-78b15ddc8a0f"
      },
      "outputs": [
        {
          "data": {
            "text/plain": [
              "LAN    0.551190\n",
              "SKU    0.209750\n",
              "TAM    0.044728\n",
              "ARG    0.028592\n",
              "CMP    0.027139\n",
              "Name: Emp-I, dtype: float64"
            ]
          },
          "execution_count": 178,
          "metadata": {},
          "output_type": "execute_result"
        }
      ],
      "source": [
        "#Conteo de retraso por código de aerolinea \n",
        "df['Emp-I'].value_counts(normalize=True).head(5)"
      ]
    },
    {
      "cell_type": "code",
      "execution_count": 179,
      "metadata": {
        "colab": {
          "base_uri": "https://localhost:8080/"
        },
        "id": "68CxcPsJAxzd",
        "outputId": "997ea330-8d0b-4460-f518-d383586f3966"
      },
      "outputs": [
        {
          "data": {
            "text/plain": [
              "LAN    0.551190\n",
              "SKU    0.209750\n",
              "TAM    0.044728\n",
              "ARG    0.028592\n",
              "CMP    0.027139\n",
              "Name: Emp-I, dtype: float64"
            ]
          },
          "execution_count": 179,
          "metadata": {},
          "output_type": "execute_result"
        }
      ],
      "source": [
        "#Proporción total de código de aerolinea en los datos.\n",
        "df['Emp-I'].value_counts(normalize=True).head(5)"
      ]
    },
    {
      "cell_type": "code",
      "execution_count": 180,
      "metadata": {
        "colab": {
          "base_uri": "https://localhost:8080/",
          "height": 517
        },
        "id": "XhNYtC4qaNxe",
        "outputId": "71334dc9-2a37-4f02-fba8-39f0b1ffecf4"
      },
      "outputs": [
        {
          "data": {
            "image/png": "[encoded data removed]",
            "text/plain": [
              "<Figure size 1500x500 with 1 Axes>"
            ]
          },
          "metadata": {
            "needs_background": "light"
          },
          "output_type": "display_data"
        }
      ],
      "source": [
        "## Tasa de retrso por mes de operación\n",
        "plot = (100 * dfa['MES'].value_counts() / len(dfa['MES'])).plot(\n",
        "kind='bar', title='%  Tasa de atraso por MES de operación', alpha = 0.5,figsize=(15,5))"
      ]
    },
    {
      "cell_type": "code",
      "execution_count": 181,
      "metadata": {
        "colab": {
          "base_uri": "https://localhost:8080/"
        },
        "id": "Ii5GaBGXaNvF",
        "outputId": "eeacaef7-e278-4a3d-c801-712f44e5c446"
      },
      "outputs": [
        {
          "data": {
            "text/plain": [
              "7.0     0.139457\n",
              "12.0    0.127796\n",
              "10.0    0.107885\n",
              "11.0    0.095034\n",
              "8.0     0.079010\n",
              "Name: MES, dtype: float64"
            ]
          },
          "execution_count": 181,
          "metadata": {},
          "output_type": "execute_result"
        }
      ],
      "source": [
        "#Proporción total de  restraso por Mes\n",
        "dfa['MES'].value_counts(normalize=True).head(5)"
      ]
    },
    {
      "cell_type": "code",
      "execution_count": 182,
      "metadata": {
        "colab": {
          "base_uri": "https://localhost:8080/",
          "height": 517
        },
        "id": "YXamrREraNqg",
        "outputId": "16e672f6-9907-4d1f-8e91-ab4600cb1804"
      },
      "outputs": [
        {
          "data": {
            "image/png": "[encoded data removed]",
            "text/plain": [
              "<Figure size 1500x500 with 1 Axes>"
            ]
          },
          "metadata": {
            "needs_background": "light"
          },
          "output_type": "display_data"
        }
      ],
      "source": [
        "# Tasa de retrso por Día de operación\n",
        "plot = (100 * dfa['DIA'].value_counts() / len(dfa['DIA'])).plot(\n",
        "kind='bar', title='%  Tasa de atraso por DIA de operación', alpha = 0.5,figsize=(15,5))"
      ]
    },
    {
      "cell_type": "code",
      "execution_count": 183,
      "metadata": {
        "colab": {
          "base_uri": "https://localhost:8080/"
        },
        "id": "b8GPWmR_aNoA",
        "outputId": "7ce2ff53-8380-45f1-f44d-f3033396d1a6"
      },
      "outputs": [
        {
          "data": {
            "text/plain": [
              "15.0    0.043154\n",
              "11.0    0.041250\n",
              "10.0    0.040854\n",
              "16.0    0.037125\n",
              "26.0    0.035935\n",
              "Name: DIA, dtype: float64"
            ]
          },
          "execution_count": 183,
          "metadata": {},
          "output_type": "execute_result"
        }
      ],
      "source": [
        "#Proporción de retrasos por día.\n",
        "\n",
        "dfa['DIA'].value_counts(normalize=True).head(5)"
      ]
    },
    {
      "cell_type": "code",
      "execution_count": 184,
      "metadata": {
        "colab": {
          "base_uri": "https://localhost:8080/",
          "height": 410
        },
        "id": "_-fekY1QbdMX",
        "outputId": "0f16b701-bf61-485d-fb86-513ecfd82f35"
      },
      "outputs": [
        {
          "data": {
            "image/png": "[encoded data removed]",
            "text/plain": [
              "<Figure size 600x400 with 1 Axes>"
            ]
          },
          "metadata": {
            "needs_background": "light"
          },
          "output_type": "display_data"
        }
      ],
      "source": [
        "\n",
        "# Tasa de retrso por temporada\n",
        "plot = (100 * dfa['temporada_alta'].value_counts() / len(dfa['temporada_alta'])).plot(\n",
        "kind='bar', title='%  Tasa de atraso por temporada', alpha = 0.5)"
      ]
    },
    {
      "cell_type": "code",
      "execution_count": 185,
      "metadata": {
        "colab": {
          "base_uri": "https://localhost:8080/"
        },
        "id": "XwVMaq5_aNlH",
        "outputId": "6e4898e0-2b6d-4d67-ad89-0a15a2e48ba4"
      },
      "outputs": [
        {
          "data": {
            "text/plain": [
              "0    0.658734\n",
              "1    0.341266\n",
              "Name: temporada_alta, dtype: float64"
            ]
          },
          "execution_count": 185,
          "metadata": {},
          "output_type": "execute_result"
        }
      ],
      "source": [
        "dfa['temporada_alta'].value_counts(normalize=True).head(5)"
      ]
    },
    {
      "cell_type": "code",
      "execution_count": 186,
      "metadata": {
        "colab": {
          "base_uri": "https://localhost:8080/"
        },
        "id": "kvriysxlaNij",
        "outputId": "3fe34068-8ec2-415c-fff9-3e97ae52cdd5"
      },
      "outputs": [
        {
          "data": {
            "text/plain": [
              "0    0.679933\n",
              "1    0.320067\n",
              "Name: temporada_alta, dtype: float64"
            ]
          },
          "execution_count": 186,
          "metadata": {},
          "output_type": "execute_result"
        }
      ],
      "source": [
        "df['temporada_alta'].value_counts(normalize=True).head(5)"
      ]
    },
    {
      "cell_type": "markdown",
      "metadata": {
        "id": "uuWmDbu6HQyk"
      },
      "source": [
        "Conclusiones iniciales para tasas de retraso:\n",
        "\n",
        "\n",
        "\n",
        "\n",
        "*   Para tipo de vuelo aquellos que son internacionales tienen una tasa del 56% \n",
        "sobre 44% de los nacionales. Este comportamiento puede indicar que los vuelos internacionales son más propensos a retrasos, desde el negocio se debe verificar que condiciones de operación, controles aeroportuarios enmarcan estos vuelos. \n",
        "\n",
        "*   Para el destino programado, se observa que el 9% de los vuelos retrasados estaban programados para las ciudades con código SPJC, seguido de ciudades con código SBGR y SCFA. Esto puede dar indicio que estos vuelos programados para estos destinos sean mas propensos a ser retrasados. Adicionalmente debe ser una alarma para hacer un análisis de identificación de casusas de retraso con posibles miras de mejoras enfocas inicialmente en dichas rutas.\n",
        "\n",
        "\n",
        "*   Se observa que la aerolínea con mayor tasa de retraso es LAN, sin embargo se debe tener en cuenta que esta es la aerolínea con mayor cantidad de vuelos programados de los datos (37573 en total) lo cual representa un 55% de la cantidad de vuelos totales programados. Un 30% mas que la siguiente aerolínea SKU.\n",
        "\n",
        "*   Los meses con mayor tasa de retraso son Julio y diciembre sumando el 27% entre ambos meses, estos meses correspondes a meses de temporada alta. Lo anterior se puede traducir en estrategias de mejoramiento de logístico o posible aumento en personal para meses particulares.   \n",
        "*   Los días con mayor tasa de retraso son los días 15 y 11, sin embargo para esto es necesario hacer un análisis de distribución por franja horaria y temporada para poder realizar una afirmación adicional.\n",
        "\n",
        "*   Si bien se observó que los meses con mayor tasa de retraso son julio y diciembre, se observa que la mayor parte de tasa de retraso es se concentra para la temporada baja. Sin embargo se debe tener en cuenta que del total de los datos, los vuelos programados  para temporada baja representa un  66% del total de los vuelos \n",
        "\n",
        "\n",
        "\n",
        "\n"
      ]
    },
    {
      "cell_type": "markdown",
      "metadata": {
        "id": "_4i20xM1JPGB"
      },
      "source": [
        "Para finalizar este apartado se sumaran dos datos adicionales y es la cantidad de vuelos en que se registraron cambios entre aerolinea programada y operada.\n",
        "\n",
        "y tambien entre el top 10 de aerolineas con mayor cantidad de retrasos. "
      ]
    },
    {
      "cell_type": "code",
      "execution_count": 187,
      "metadata": {
        "colab": {
          "base_uri": "https://localhost:8080/"
        },
        "id": "-RUPWXQtHQI9",
        "outputId": "76968a29-258c-49ca-969b-b03fc0d98cd6"
      },
      "outputs": [
        {
          "data": {
            "text/plain": [
              "0    68047\n",
              "1      120\n",
              "Name: cambio_vuelo, dtype: int64"
            ]
          },
          "execution_count": 187,
          "metadata": {},
          "output_type": "execute_result"
        }
      ],
      "source": [
        "#Conteo de vuelos que sufrieron cambio entre vuelo programado y operado\n",
        "dfe[\"cambio_vuelo\"]=0\n",
        "dfe.loc[dfe['Vlo-I']!=dfe['Vlo-O'],\"cambio_vuelo\"]=1 \n",
        "dfe['cambio_vuelo'].value_counts() # conteo nueva columna "
      ]
    },
    {
      "cell_type": "code",
      "execution_count": 188,
      "metadata": {
        "colab": {
          "base_uri": "https://localhost:8080/",
          "height": 363
        },
        "id": "FoWRefQEHP-4",
        "outputId": "3a0a2f58-bb1b-4b58-c103-e314f74b2aa9"
      },
      "outputs": [
        {
          "data": {
            "text/html": [
              "\n",
              "  <div id=\"df-7b42e3bc-d927-4b0a-bd2f-78fe60c50fd6\">\n",
              "    <div class=\"colab-df-container\">\n",
              "      <div>\n",
              "<style scoped>\n",
              "    .dataframe tbody tr th:only-of-type {\n",
              "        vertical-align: middle;\n",
              "    }\n",
              "\n",
              "    .dataframe tbody tr th {\n",
              "        vertical-align: top;\n",
              "    }\n",
              "\n",
              "    .dataframe thead th {\n",
              "        text-align: right;\n",
              "    }\n",
              "</style>\n",
              "<table border=\"1\" class=\"dataframe\">\n",
              "  <thead>\n",
              "    <tr style=\"text-align: right;\">\n",
              "      <th></th>\n",
              "      <th>Vlo-O</th>\n",
              "      <th>atraso_15</th>\n",
              "    </tr>\n",
              "  </thead>\n",
              "  <tbody>\n",
              "    <tr>\n",
              "      <th>0</th>\n",
              "      <td>7663</td>\n",
              "      <td>234</td>\n",
              "    </tr>\n",
              "    <tr>\n",
              "      <th>1</th>\n",
              "      <td>116</td>\n",
              "      <td>233</td>\n",
              "    </tr>\n",
              "    <tr>\n",
              "      <th>2</th>\n",
              "      <td>92</td>\n",
              "      <td>169</td>\n",
              "    </tr>\n",
              "    <tr>\n",
              "      <th>3</th>\n",
              "      <td>704</td>\n",
              "      <td>159</td>\n",
              "    </tr>\n",
              "    <tr>\n",
              "      <th>4</th>\n",
              "      <td>1291</td>\n",
              "      <td>148</td>\n",
              "    </tr>\n",
              "    <tr>\n",
              "      <th>5</th>\n",
              "      <td>8137</td>\n",
              "      <td>142</td>\n",
              "    </tr>\n",
              "    <tr>\n",
              "      <th>6</th>\n",
              "      <td>801</td>\n",
              "      <td>135</td>\n",
              "    </tr>\n",
              "    <tr>\n",
              "      <th>7</th>\n",
              "      <td>531</td>\n",
              "      <td>131</td>\n",
              "    </tr>\n",
              "    <tr>\n",
              "      <th>8</th>\n",
              "      <td>455</td>\n",
              "      <td>129</td>\n",
              "    </tr>\n",
              "    <tr>\n",
              "      <th>9</th>\n",
              "      <td>28</td>\n",
              "      <td>114</td>\n",
              "    </tr>\n",
              "  </tbody>\n",
              "</table>\n",
              "</div>\n",
              "      <button class=\"colab-df-convert\" onclick=\"convertToInteractive('df-7b42e3bc-d927-4b0a-bd2f-78fe60c50fd6')\"\n",
              "              title=\"Convert this dataframe to an interactive table.\"\n",
              "              style=\"display:none;\">\n",
              "        \n",
              "  <svg xmlns=\"http://www.w3.org/2000/svg\" height=\"24px\"viewBox=\"0 0 24 24\"\n",
              "       width=\"24px\">\n",
              "    <path d=\"M0 0h24v24H0V0z\" fill=\"none\"/>\n",
              "    <path d=\"M18.56 5.44l.94 2.06.94-2.06 2.06-.94-2.06-.94-.94-2.06-.94 2.06-2.06.94zm-11 1L8.5 8.5l.94-2.06 2.06-.94-2.06-.94L8.5 2.5l-.94 2.06-2.06.94zm10 10l.94 2.06.94-2.06 2.06-.94-2.06-.94-.94-2.06-.94 2.06-2.06.94z\"/><path d=\"M17.41 7.96l-1.37-1.37c-.4-.4-.92-.59-1.43-.59-.52 0-1.04.2-1.43.59L10.3 9.45l-7.72 7.72c-.78.78-.78 2.05 0 2.83L4 21.41c.39.39.9.59 1.41.59.51 0 1.02-.2 1.41-.59l7.78-7.78 2.81-2.81c.8-.78.8-2.07 0-2.86zM5.41 20L4 18.59l7.72-7.72 1.47 1.35L5.41 20z\"/>\n",
              "  </svg>\n",
              "      </button>\n",
              "      \n",
              "  <style>\n",
              "    .colab-df-container {\n",
              "      display:flex;\n",
              "      flex-wrap:wrap;\n",
              "      gap: 12px;\n",
              "    }\n",
              "\n",
              "    .colab-df-convert {\n",
              "      background-color: #E8F0FE;\n",
              "      border: none;\n",
              "      border-radius: 50%;\n",
              "      cursor: pointer;\n",
              "      display: none;\n",
              "      fill: #1967D2;\n",
              "      height: 32px;\n",
              "      padding: 0 0 0 0;\n",
              "      width: 32px;\n",
              "    }\n",
              "\n",
              "    .colab-df-convert:hover {\n",
              "      background-color: #E2EBFA;\n",
              "      box-shadow: 0px 1px 2px rgba(60, 64, 67, 0.3), 0px 1px 3px 1px rgba(60, 64, 67, 0.15);\n",
              "      fill: #174EA6;\n",
              "    }\n",
              "\n",
              "    [theme=dark] .colab-df-convert {\n",
              "      background-color: #3B4455;\n",
              "      fill: #D2E3FC;\n",
              "    }\n",
              "\n",
              "    [theme=dark] .colab-df-convert:hover {\n",
              "      background-color: #434B5C;\n",
              "      box-shadow: 0px 1px 3px 1px rgba(0, 0, 0, 0.15);\n",
              "      filter: drop-shadow(0px 1px 2px rgba(0, 0, 0, 0.3));\n",
              "      fill: #FFFFFF;\n",
              "    }\n",
              "  </style>\n",
              "\n",
              "      <script>\n",
              "        const buttonEl =\n",
              "          document.querySelector('#df-7b42e3bc-d927-4b0a-bd2f-78fe60c50fd6 button.colab-df-convert');\n",
              "        buttonEl.style.display =\n",
              "          google.colab.kernel.accessAllowed ? 'block' : 'none';\n",
              "\n",
              "        async function convertToInteractive(key) {\n",
              "          const element = document.querySelector('#df-7b42e3bc-d927-4b0a-bd2f-78fe60c50fd6');\n",
              "          const dataTable =\n",
              "            await google.colab.kernel.invokeFunction('convertToInteractive',\n",
              "                                                     [key], {});\n",
              "          if (!dataTable) return;\n",
              "\n",
              "          const docLinkHtml = 'Like what you see? Visit the ' +\n",
              "            '<a target=\"_blank\" href=https://colab.research.google.com/notebooks/data_table.ipynb>data table notebook</a>'\n",
              "            + ' to learn more about interactive tables.';\n",
              "          element.innerHTML = '';\n",
              "          dataTable['output_type'] = 'display_data';\n",
              "          await google.colab.output.renderOutput(dataTable, element);\n",
              "          const docLink = document.createElement('div');\n",
              "          docLink.innerHTML = docLinkHtml;\n",
              "          element.appendChild(docLink);\n",
              "        }\n",
              "      </script>\n",
              "    </div>\n",
              "  </div>\n",
              "  "
            ],
            "text/plain": [
              "  Vlo-O  atraso_15\n",
              "0  7663        234\n",
              "1   116        233\n",
              "2    92        169\n",
              "3   704        159\n",
              "4  1291        148\n",
              "5  8137        142\n",
              "6   801        135\n",
              "7   531        131\n",
              "8   455        129\n",
              "9    28        114"
            ]
          },
          "execution_count": 188,
          "metadata": {},
          "output_type": "execute_result"
        }
      ],
      "source": [
        "#Top 10 de vuelos con mayor cantidad de restrasos\n",
        "dfr=df.copy()\n",
        "df_n_retraso=dfr[dfr.atraso_15==1]\n",
        "df_n_retraso=df_n_retraso.groupby(['Vlo-O'])['atraso_15'].count().sort_values(ascending=False).to_frame().reset_index() \n",
        "df_n_retraso.head(10)"
      ]
    },
    {
      "cell_type": "markdown",
      "metadata": {
        "id": "Wi5AIttYLkz4"
      },
      "source": [
        "\n",
        "\n",
        "*   Con lo anterior se observa que 120 vuelos sufrieron cambio entre la aerolínea programada y la aerolínea operada. Esto indica que son vuelos que posiblemente sufrieron algún tupo de afectación mayor o bien, sufrieron cambio dentro de un mismo grupo que opera lo cual puede derivarse o ser consecuencia de un atraso. \n",
        "Finalmente se presenta un top 10 con los vuelos que sufren con mayor frecuencia retrasos. Esto puede ayudar a identificar y enfocar los esfuerzos a la hora de realizar un diagnóstico de causa raíz \n",
        "\n",
        "*   Con lo anterior se observa que 120 vuelos sufrieron cambio entre la aerolínea programada y la aerolínea operada. Esto indica que son vuelos que posiblemente sufrieron algún tupo de afectación mayor o bien, sufrieron cambio dentro de un mismo grupo que opera lo cual puede derivarse o ser consecuencia de un atraso. \n",
        "Finalmente se presenta un top 10 con los vuelos que sufren con mayor frecuencia retrasos. Esto puede ayudar a identificar y enfocar los esfuerzos a la hora de realizar un diagnóstico de causa raíz.\n",
        "\n",
        "\n",
        "Según lo anterior, se espera que variables como lo son si pertenece al top 10 de vuelos mas atrasados MES, DÍA, número de vuelo sean algunas de las variables con mayor influencia para predecir un retraso\n",
        "\n"
      ]
    },
    {
      "cell_type": "markdown",
      "metadata": {
        "id": "QdwEkwQiNVl1"
      },
      "source": [
        "# 4. Entrena uno o varios modelos (usando el/los algoritmo(s) que prefieras) para estimar la probabilidad de atraso de un vuelo. Siéntete libre de generar variables adicionales y/o complementar con variables externas"
      ]
    },
    {
      "cell_type": "markdown",
      "metadata": {
        "id": "tmIMEz32Ot3m"
      },
      "source": [
        "Para este apartado seran usados dos modelos : LGBMClassifier y CatboostClassifier\n",
        "\n",
        "**LGMClassifier**:\n",
        "\n",
        " Este modelo es un árbol de decisión de aumento de gradiente altamente eficiente es un algoritmo basado en histogramas que coloca valores continuos en contenedores discretos, lo que conduce a un entrenamiento más rápido y un uso de memoria más eficiente.  (zephyrnet,2022).\n",
        "\n",
        "**CatboostClassifier**:\n",
        "\n",
        "El gradient boosting o potenciación del gradiente es un potente algoritmo de aprendizaje de máquinas. La esencia del método consiste en construir un conjunto de modelos débiles (por ejemplo, árboles de toma de decisiones) en los que (a diferencia del bagging) los modelos no se construyen independientemente (paralelamente), sino secuencialmente. Esto significa que el siguiente árbol aprenderá de los errores del árbol precedente, y luego se repitirá el proceso, aumentando el número de modelos débiles (mql5, 2021).\n",
        "\n",
        "A continuació se hace un primer exploratorio de los modelos antes mencionados sin incluir nuevas variables:"
      ]
    },
    {
      "cell_type": "code",
      "execution_count": null,
      "metadata": {},
      "outputs": [],
      "source": [
        "%%capture\n",
        "! pip install lightgbm\n",
        "! pip install catboost\n",
        "! pip install sklearn "
      ]
    },
    {
      "cell_type": "code",
      "execution_count": 189,
      "metadata": {
        "id": "FMUBj641NTv8"
      },
      "outputs": [],
      "source": [
        "#Importar paquetes y librerias necesarias para modelos\n",
        "\n",
        "\n",
        "\n",
        "import lightgbm as lgb \n",
        "from sklearn.model_selection import train_test_split\n",
        "import lightgbm as lgb \n",
        "from sklearn.metrics import classification_report\n",
        "from catboost import CatBoostClassifier\n",
        "from sklearn.metrics import  precision_recall_curve, auc"
      ]
    },
    {
      "cell_type": "code",
      "execution_count": 190,
      "metadata": {
        "id": "2QpkSdX5RS7i"
      },
      "outputs": [],
      "source": [
        "#Definir matris X columnas para usadas para predecir\n",
        "X=df[['Vlo-I', 'Ori-I', 'Des-I', 'Emp-I', 'Vlo-O',\n",
        "       'Ori-O', 'Emp-O', 'DIA', 'MES', 'AÑO', 'DIANOM', 'TIPOVUELO',\n",
        "       'OPERA', 'SIGLAORI', 'SIGLADES', 'temporada_alta',\n",
        "     'periodo_dia']]"
      ]
    },
    {
      "cell_type": "code",
      "execution_count": 191,
      "metadata": {
        "id": "hwB83QglRUCy"
      },
      "outputs": [],
      "source": [
        "# Variable a predecir \n",
        "y=df['atraso_15']"
      ]
    },
    {
      "cell_type": "code",
      "execution_count": 192,
      "metadata": {
        "id": "BvFi_XYSRVr7"
      },
      "outputs": [],
      "source": [
        "#Creacion de lista de columnas para realizar casting a categorico\n",
        "categoricalcolumns=['Vlo-I', 'Ori-I', 'Des-I', 'Emp-I', 'Vlo-O',\n",
        "       'Ori-O','Emp-O', 'DIANOM', 'TIPOVUELO',\n",
        "       'OPERA', 'SIGLAORI', 'SIGLADES', \n",
        "       'periodo_dia']"
      ]
    },
    {
      "cell_type": "code",
      "execution_count": 193,
      "metadata": {
        "colab": {
          "base_uri": "https://localhost:8080/"
        },
        "id": "trv9tMvnRXQ_",
        "outputId": "d2be857e-31fc-4685-eb36-75a608518f10"
      },
      "outputs": [
        {
          "name": "stderr",
          "output_type": "stream",
          "text": [
            "<ipython-input-193-e9fb88da1ba5>:5: SettingWithCopyWarning: \n",
            "A value is trying to be set on a copy of a slice from a DataFrame.\n",
            "Try using .loc[row_indexer,col_indexer] = value instead\n",
            "\n",
            "See the caveats in the documentation: https://pandas.pydata.org/pandas-docs/stable/user_guide/indexing.html#returning-a-view-versus-a-copy\n",
            "  X[c] = X[c].astype('category')\n"
          ]
        }
      ],
      "source": [
        "#Casteo a categorico\n",
        "for c in categoricalcolumns:\n",
        "  col_type=X[c].dtype\n",
        "  if col_type == 'object' or col_type.name == 'category':\n",
        "    X[c] = X[c].astype('category')"
      ]
    },
    {
      "cell_type": "code",
      "execution_count": 194,
      "metadata": {
        "id": "grj7_TPBRajg"
      },
      "outputs": [],
      "source": [
        "# Split de datos para prueba y testeo\n",
        "X_train, X_test, y_train, y_test = train_test_split(X, y, test_size=0.3, random_state=0)"
      ]
    },
    {
      "cell_type": "code",
      "execution_count": 195,
      "metadata": {
        "colab": {
          "base_uri": "https://localhost:8080/"
        },
        "id": "A3_QjsrSRchQ",
        "outputId": "ea028f79-a31f-466f-df30-68c2e8767d98"
      },
      "outputs": [
        {
          "name": "stdout",
          "output_type": "stream",
          "text": [
            "<class 'pandas.core.frame.DataFrame'>\n",
            "Int64Index: 47716 entries, 16948 to 43570\n",
            "Data columns (total 17 columns):\n",
            " #   Column          Non-Null Count  Dtype   \n",
            "---  ------          --------------  -----   \n",
            " 0   Vlo-I           47716 non-null  category\n",
            " 1   Ori-I           47716 non-null  category\n",
            " 2   Des-I           47716 non-null  category\n",
            " 3   Emp-I           47716 non-null  category\n",
            " 4   Vlo-O           47716 non-null  category\n",
            " 5   Ori-O           47716 non-null  category\n",
            " 6   Emp-O           47716 non-null  category\n",
            " 7   DIA             47716 non-null  float64 \n",
            " 8   MES             47716 non-null  float64 \n",
            " 9   AÑO             47716 non-null  float64 \n",
            " 10  DIANOM          47716 non-null  category\n",
            " 11  TIPOVUELO       47716 non-null  category\n",
            " 12  OPERA           47716 non-null  category\n",
            " 13  SIGLAORI        47716 non-null  category\n",
            " 14  SIGLADES        47716 non-null  category\n",
            " 15  temporada_alta  47716 non-null  int64   \n",
            " 16  periodo_dia     47716 non-null  category\n",
            "dtypes: category(13), float64(3), int64(1)\n",
            "memory usage: 2.6 MB\n"
          ]
        }
      ],
      "source": [
        "#Verificación de Casting a variables categoricas\n",
        "X_train.info()"
      ]
    },
    {
      "cell_type": "code",
      "execution_count": 196,
      "metadata": {
        "colab": {
          "base_uri": "https://localhost:8080/"
        },
        "id": "BoqkZy3JRjp3",
        "outputId": "150d4830-6cdd-4eac-d77b-a45e1d73016d"
      },
      "outputs": [
        {
          "data": {
            "text/plain": [
              "LGBMClassifier()"
            ]
          },
          "execution_count": 196,
          "metadata": {},
          "output_type": "execute_result"
        }
      ],
      "source": [
        "#Aplicación modelo LGMClassifier\n",
        "clf=lgb.LGBMClassifier()\n",
        "clf.fit(X_train,y_train)"
      ]
    },
    {
      "cell_type": "code",
      "execution_count": 197,
      "metadata": {
        "colab": {
          "base_uri": "https://localhost:8080/"
        },
        "id": "GUcslHDgRjkp",
        "outputId": "0f758426-828e-497b-9ca3-de778b24cd4c"
      },
      "outputs": [
        {
          "name": "stdout",
          "output_type": "stream",
          "text": [
            "              precision    recall  f1-score   support\n",
            "\n",
            "           0       0.84      0.97      0.90     16689\n",
            "           1       0.58      0.16      0.25      3762\n",
            "\n",
            "    accuracy                           0.82     20451\n",
            "   macro avg       0.71      0.57      0.58     20451\n",
            "weighted avg       0.79      0.82      0.78     20451\n",
            "\n"
          ]
        }
      ],
      "source": [
        "#Aplicación del modelo sobre partición de prueba\n",
        "y_predict=clf.predict(X_test)\n",
        "\n",
        "#Reporte de la clasifiación del modelo con LGMClassifier\n",
        "print(classification_report(y_test,y_predict))"
      ]
    },
    {
      "cell_type": "code",
      "execution_count": 198,
      "metadata": {
        "id": "QnNeSLfsRjfj"
      },
      "outputs": [],
      "source": [
        "# aplicación CatBoostClassifier\n",
        "\n",
        "\n",
        "clf_2=CatBoostClassifier(verbose=False)\n",
        "\n",
        "clf_2.fit(X_train,y_train,\n",
        "        cat_features=categoricalcolumns)\n",
        "\n",
        "print(('CatBoost model parameters:'))\n",
        "print(clf_2.get_params())"
      ]
    },
    {
      "cell_type": "code",
      "execution_count": 199,
      "metadata": {
        "colab": {
          "base_uri": "https://localhost:8080/"
        },
        "id": "qg6SOSMzRjce",
        "outputId": "34acfa7c-3c5d-480b-b658-42c7acc867c5"
      },
      "outputs": [
        {
          "name": "stdout",
          "output_type": "stream",
          "text": [
            "              precision    recall  f1-score   support\n",
            "\n",
            "           0       0.83      0.98      0.90     16689\n",
            "           1       0.62      0.14      0.23      3762\n",
            "\n",
            "    accuracy                           0.83     20451\n",
            "   macro avg       0.73      0.56      0.56     20451\n",
            "weighted avg       0.80      0.83      0.78     20451\n",
            "\n"
          ]
        }
      ],
      "source": [
        "y_predict_2=clf_2.predict(X_test)\n",
        "print(classification_report(y_test,y_predict_2)) #Reporte de la clasifiación del modelo"
      ]
    },
    {
      "cell_type": "markdown",
      "metadata": {
        "id": "BLDTYYLLT-oO"
      },
      "source": [
        "Se hace una evaluación inicial de ambos modelos y su capacidad para clasificar ( Esto teniendo presente que la finalidad es predecir, para lo cual mas adelante se usaran metricas adicionales **para los modelos finales efocados en la predicción**).\n",
        "\n",
        "\n",
        "**Precision (Precisión)**\n",
        "Con la métrica de precisión podemos medir la calidad del modelo de machine learning en tareas de clasificación.\n",
        "\n",
        "\n",
        "**Recall (Exhaustividad)**\n",
        "La métrica de exhaustividad nos va a informar sobre la cantidad que el modelo de machine learning es capaz de identificar.\n",
        "\n",
        "\n",
        "**El valor F1** se utiliza para combinar las medidas de precision y recall en un sólo valor.\n",
        "\n",
        "\n",
        "**Accuracy (Exactitud)**\n",
        "La exactitud (accuracy) mide el porcentaje de casos que el modelo ha acertado. Esta es una de las métricas más usadas y favoritas (iartificial,2020).\n",
        "\n",
        "\n",
        "Luego de lo anterior se procede a crear nuevas variables para mejorar el performance del modelo:\n"
      ]
    },
    {
      "cell_type": "code",
      "execution_count": 200,
      "metadata": {
        "id": "TJOGqp8uWEr1"
      },
      "outputs": [],
      "source": [
        "df2=df.copy()\n",
        "#Creación de nueva columna Cambio_vuelo para formar nuevas entradas al modelo\n",
        "df2[\"cambio_vuelo\"]=0\n",
        "df2.loc[df2['Vlo-I']!=df2['Vlo-O'],\"cambio_vuelo\"]=1          "
      ]
    },
    {
      "cell_type": "code",
      "execution_count": 201,
      "metadata": {
        "colab": {
          "base_uri": "https://localhost:8080/"
        },
        "id": "FfrzHx_6WEpF",
        "outputId": "97262294-53de-4bff-c175-7f564e089236"
      },
      "outputs": [
        {
          "data": {
            "text/plain": [
              "0    68047\n",
              "1      120\n",
              "Name: cambio_vuelo, dtype: int64"
            ]
          },
          "execution_count": 201,
          "metadata": {},
          "output_type": "execute_result"
        }
      ],
      "source": [
        "df2['cambio_vuelo'].value_counts() # conteo nueva columna "
      ]
    },
    {
      "cell_type": "code",
      "execution_count": 202,
      "metadata": {
        "id": "oEG9J6_HWEjL"
      },
      "outputs": [],
      "source": [
        "df2[\"cambio_erolinea\"]=0 \n",
        "df2.loc[df['Emp-I']!=df['Emp-O'],\"cambio_erolinea\"]=int(1)"
      ]
    },
    {
      "cell_type": "code",
      "execution_count": 203,
      "metadata": {
        "id": "75K04WyaWEgk"
      },
      "outputs": [],
      "source": [
        "#Creacion de nueva columna cambio de aerolinea, para sumar al modelo.\n",
        "df2[\"cambio_erolinea\"]=0 \n",
        "df2.loc[df['Emp-I']!=df['Emp-O'],\"cambio_erolinea\"]=int(1)"
      ]
    },
    {
      "cell_type": "code",
      "execution_count": 204,
      "metadata": {
        "colab": {
          "base_uri": "https://localhost:8080/"
        },
        "id": "Hb9Q8zaqWEd2",
        "outputId": "cc3e562e-bee2-4494-a893-928e5eb14323"
      },
      "outputs": [
        {
          "data": {
            "text/plain": [
              "0    49533\n",
              "1    18634\n",
              "Name: cambio_erolinea, dtype: int64"
            ]
          },
          "execution_count": 204,
          "metadata": {},
          "output_type": "execute_result"
        }
      ],
      "source": [
        "#Conteo de la nueva variable cambio de aerolinea\n",
        "df2['cambio_erolinea'].value_counts()"
      ]
    },
    {
      "cell_type": "code",
      "execution_count": 205,
      "metadata": {
        "id": "Dk-p_xejSD-f"
      },
      "outputs": [],
      "source": [
        "#Creación de columna dummies para sumar al modelo\n",
        "df2=pd.get_dummies(df2,columns=['DIANOM','periodo_dia'])"
      ]
    },
    {
      "cell_type": "code",
      "execution_count": 206,
      "metadata": {
        "id": "20YvW4GnWyaB"
      },
      "outputs": [],
      "source": [
        "#Creación de nuevo df para calcular el top 10 de los vuelos con mayor retraso\n",
        "\n",
        "df_n_retraso=df2[df2.atraso_15==1]\n",
        "df_n_retraso=df_n_retraso.groupby(['Vlo-O'])['atraso_15'].count().sort_values(ascending=False).to_frame().reset_index() "
      ]
    },
    {
      "cell_type": "code",
      "execution_count": 207,
      "metadata": {
        "colab": {
          "base_uri": "https://localhost:8080/"
        },
        "id": "NXVynJ5qWyXV",
        "outputId": "1ad30df5-be6f-4cc7-d13f-779c8394bce7"
      },
      "outputs": [
        {
          "name": "stdout",
          "output_type": "stream",
          "text": [
            "['7663', '116', '92', '704', '1291', '8137', '801', '531', '455', '28']\n"
          ]
        }
      ],
      "source": [
        "#Convertir a lista los vuelos con mayor retraso\n",
        "lista_top_retraso=list(df_n_retraso['Vlo-O'].head(10).values)\n",
        "print(lista_top_retraso)"
      ]
    },
    {
      "cell_type": "code",
      "execution_count": 208,
      "metadata": {
        "id": "r8BnxyyIWyUv"
      },
      "outputs": [],
      "source": [
        "#Creación de columna vuelo_atraso_top10 que dara atriburo si el vuelo pertence a los mas atrasados\n",
        "df2['vuelo_atraso_top10']= 0\n",
        "df2.loc[df2['Vlo-O'].isin(lista_top_retraso),\"vuelo_atraso_top10\"]=int(1)"
      ]
    },
    {
      "cell_type": "code",
      "execution_count": 209,
      "metadata": {
        "colab": {
          "base_uri": "https://localhost:8080/"
        },
        "id": "80qw2Q58WyR1",
        "outputId": "150ba77a-6232-4881-b58f-d8f40e1bc62c"
      },
      "outputs": [
        {
          "data": {
            "text/plain": [
              "0    64430\n",
              "1     3737\n",
              "Name: vuelo_atraso_top10, dtype: int64"
            ]
          },
          "execution_count": 209,
          "metadata": {},
          "output_type": "execute_result"
        }
      ],
      "source": [
        "# conteo de vuelo  perteneciente al top 10 de atrasos\n",
        "df2['vuelo_atraso_top10'].value_counts()"
      ]
    },
    {
      "cell_type": "code",
      "execution_count": 210,
      "metadata": {
        "colab": {
          "base_uri": "https://localhost:8080/"
        },
        "id": "ynQeXu1DWyL3",
        "outputId": "64db3f2a-ca10-4782-c052-b10abe1e7c8c"
      },
      "outputs": [
        {
          "data": {
            "text/plain": [
              "Index(['Fecha-I', 'Vlo-I', 'Ori-I', 'Des-I', 'Emp-I', 'Fecha-O', 'Vlo-O',\n",
              "       'Ori-O', 'Des-O', 'Emp-O', 'DIA', 'MES', 'AÑO', 'TIPOVUELO', 'OPERA',\n",
              "       'SIGLAORI', 'SIGLADES', 'dif_min', 'temporada_alta', 'atraso_15',\n",
              "       'cambio_vuelo', 'cambio_erolinea', 'DIANOM_Domingo', 'DIANOM_Jueves',\n",
              "       'DIANOM_Lunes', 'DIANOM_Martes', 'DIANOM_Miercoles', 'DIANOM_Sabado',\n",
              "       'DIANOM_Viernes', 'periodo_dia_mañana', 'periodo_dia_noche',\n",
              "       'periodo_dia_tarde', 'vuelo_atraso_top10'],\n",
              "      dtype='object')"
            ]
          },
          "execution_count": 210,
          "metadata": {},
          "output_type": "execute_result"
        }
      ],
      "source": [
        "#Verificar columnas creadas\n",
        "df2.columns"
      ]
    },
    {
      "cell_type": "code",
      "execution_count": 211,
      "metadata": {
        "id": "Vog_qxVmWyI9"
      },
      "outputs": [],
      "source": [
        "#Definir matris X columnas para usadas para predecir\n",
        "X=df2[['Vlo-I', 'Des-I', 'Emp-I', 'Vlo-O','Emp-O', 'DIA', 'MES', 'AÑO', 'TIPOVUELO', 'OPERA',\n",
        "       'SIGLADES', 'temporada_alta', 'cambio_vuelo', 'cambio_erolinea', 'DIANOM_Domingo',\n",
        "       'DIANOM_Jueves', 'DIANOM_Lunes', 'DIANOM_Martes', 'DIANOM_Miercoles',\n",
        "       'DIANOM_Sabado', 'DIANOM_Viernes', 'periodo_dia_mañana',\n",
        "       'periodo_dia_noche', 'periodo_dia_tarde']]"
      ]
    },
    {
      "cell_type": "code",
      "execution_count": 212,
      "metadata": {
        "id": "cWKz6l9HXMIU"
      },
      "outputs": [],
      "source": [
        "# Variable a predecir\n",
        "y=df2['atraso_15']"
      ]
    },
    {
      "cell_type": "code",
      "execution_count": 213,
      "metadata": {
        "id": "Hp23RG5-XMC4"
      },
      "outputs": [],
      "source": [
        "#Creacion de lista de columnas para realizar casting a categorico\n",
        "categoricalcolumns=['Vlo-I', 'Des-I', 'Emp-I', 'Vlo-O',\n",
        "       'Emp-O', 'TIPOVUELO',\n",
        "       'OPERA', 'SIGLADES', \n",
        "       ]"
      ]
    },
    {
      "cell_type": "code",
      "execution_count": 214,
      "metadata": {
        "colab": {
          "base_uri": "https://localhost:8080/",
          "height": 490
        },
        "id": "cqHKqTKIYvP5",
        "outputId": "e0f75861-a62d-4e64-93ba-dbbdd0e41905"
      },
      "outputs": [
        {
          "data": {
            "text/html": [
              "\n",
              "  <div id=\"df-45744576-33c4-40fc-8257-bb2def91ab5f\">\n",
              "    <div class=\"colab-df-container\">\n",
              "      <div>\n",
              "<style scoped>\n",
              "    .dataframe tbody tr th:only-of-type {\n",
              "        vertical-align: middle;\n",
              "    }\n",
              "\n",
              "    .dataframe tbody tr th {\n",
              "        vertical-align: top;\n",
              "    }\n",
              "\n",
              "    .dataframe thead th {\n",
              "        text-align: right;\n",
              "    }\n",
              "</style>\n",
              "<table border=\"1\" class=\"dataframe\">\n",
              "  <thead>\n",
              "    <tr style=\"text-align: right;\">\n",
              "      <th></th>\n",
              "      <th>Fecha-I</th>\n",
              "      <th>Vlo-I</th>\n",
              "      <th>Ori-I</th>\n",
              "      <th>Des-I</th>\n",
              "      <th>Emp-I</th>\n",
              "      <th>Fecha-O</th>\n",
              "      <th>Vlo-O</th>\n",
              "      <th>Ori-O</th>\n",
              "      <th>Des-O</th>\n",
              "      <th>Emp-O</th>\n",
              "      <th>...</th>\n",
              "      <th>DIANOM_Jueves</th>\n",
              "      <th>DIANOM_Lunes</th>\n",
              "      <th>DIANOM_Martes</th>\n",
              "      <th>DIANOM_Miercoles</th>\n",
              "      <th>DIANOM_Sabado</th>\n",
              "      <th>DIANOM_Viernes</th>\n",
              "      <th>periodo_dia_mañana</th>\n",
              "      <th>periodo_dia_noche</th>\n",
              "      <th>periodo_dia_tarde</th>\n",
              "      <th>vuelo_atraso_top10</th>\n",
              "    </tr>\n",
              "  </thead>\n",
              "  <tbody>\n",
              "    <tr>\n",
              "      <th>0</th>\n",
              "      <td>2017-01-01 23:30:00</td>\n",
              "      <td>226</td>\n",
              "      <td>SCEL</td>\n",
              "      <td>KMIA</td>\n",
              "      <td>AAL</td>\n",
              "      <td>2017-01-01 23:33:00</td>\n",
              "      <td>226</td>\n",
              "      <td>SCEL</td>\n",
              "      <td>KMIA</td>\n",
              "      <td>AAL</td>\n",
              "      <td>...</td>\n",
              "      <td>0</td>\n",
              "      <td>0</td>\n",
              "      <td>0</td>\n",
              "      <td>0</td>\n",
              "      <td>0</td>\n",
              "      <td>0</td>\n",
              "      <td>0</td>\n",
              "      <td>1</td>\n",
              "      <td>0</td>\n",
              "      <td>0</td>\n",
              "    </tr>\n",
              "    <tr>\n",
              "      <th>1</th>\n",
              "      <td>2017-01-02 23:30:00</td>\n",
              "      <td>226</td>\n",
              "      <td>SCEL</td>\n",
              "      <td>KMIA</td>\n",
              "      <td>AAL</td>\n",
              "      <td>2017-01-02 23:39:00</td>\n",
              "      <td>226</td>\n",
              "      <td>SCEL</td>\n",
              "      <td>KMIA</td>\n",
              "      <td>AAL</td>\n",
              "      <td>...</td>\n",
              "      <td>0</td>\n",
              "      <td>1</td>\n",
              "      <td>0</td>\n",
              "      <td>0</td>\n",
              "      <td>0</td>\n",
              "      <td>0</td>\n",
              "      <td>0</td>\n",
              "      <td>1</td>\n",
              "      <td>0</td>\n",
              "      <td>0</td>\n",
              "    </tr>\n",
              "    <tr>\n",
              "      <th>2</th>\n",
              "      <td>2017-01-03 23:30:00</td>\n",
              "      <td>226</td>\n",
              "      <td>SCEL</td>\n",
              "      <td>KMIA</td>\n",
              "      <td>AAL</td>\n",
              "      <td>2017-01-03 23:39:00</td>\n",
              "      <td>226</td>\n",
              "      <td>SCEL</td>\n",
              "      <td>KMIA</td>\n",
              "      <td>AAL</td>\n",
              "      <td>...</td>\n",
              "      <td>0</td>\n",
              "      <td>0</td>\n",
              "      <td>1</td>\n",
              "      <td>0</td>\n",
              "      <td>0</td>\n",
              "      <td>0</td>\n",
              "      <td>0</td>\n",
              "      <td>1</td>\n",
              "      <td>0</td>\n",
              "      <td>0</td>\n",
              "    </tr>\n",
              "    <tr>\n",
              "      <th>3</th>\n",
              "      <td>2017-01-04 23:30:00</td>\n",
              "      <td>226</td>\n",
              "      <td>SCEL</td>\n",
              "      <td>KMIA</td>\n",
              "      <td>AAL</td>\n",
              "      <td>2017-01-04 23:33:00</td>\n",
              "      <td>226</td>\n",
              "      <td>SCEL</td>\n",
              "      <td>KMIA</td>\n",
              "      <td>AAL</td>\n",
              "      <td>...</td>\n",
              "      <td>0</td>\n",
              "      <td>0</td>\n",
              "      <td>0</td>\n",
              "      <td>1</td>\n",
              "      <td>0</td>\n",
              "      <td>0</td>\n",
              "      <td>0</td>\n",
              "      <td>1</td>\n",
              "      <td>0</td>\n",
              "      <td>0</td>\n",
              "    </tr>\n",
              "    <tr>\n",
              "      <th>4</th>\n",
              "      <td>2017-01-05 23:30:00</td>\n",
              "      <td>226</td>\n",
              "      <td>SCEL</td>\n",
              "      <td>KMIA</td>\n",
              "      <td>AAL</td>\n",
              "      <td>2017-01-05 23:28:00</td>\n",
              "      <td>226</td>\n",
              "      <td>SCEL</td>\n",
              "      <td>KMIA</td>\n",
              "      <td>AAL</td>\n",
              "      <td>...</td>\n",
              "      <td>1</td>\n",
              "      <td>0</td>\n",
              "      <td>0</td>\n",
              "      <td>0</td>\n",
              "      <td>0</td>\n",
              "      <td>0</td>\n",
              "      <td>0</td>\n",
              "      <td>1</td>\n",
              "      <td>0</td>\n",
              "      <td>0</td>\n",
              "    </tr>\n",
              "  </tbody>\n",
              "</table>\n",
              "<p>5 rows × 33 columns</p>\n",
              "</div>\n",
              "      <button class=\"colab-df-convert\" onclick=\"convertToInteractive('df-45744576-33c4-40fc-8257-bb2def91ab5f')\"\n",
              "              title=\"Convert this dataframe to an interactive table.\"\n",
              "              style=\"display:none;\">\n",
              "        \n",
              "  <svg xmlns=\"http://www.w3.org/2000/svg\" height=\"24px\"viewBox=\"0 0 24 24\"\n",
              "       width=\"24px\">\n",
              "    <path d=\"M0 0h24v24H0V0z\" fill=\"none\"/>\n",
              "    <path d=\"M18.56 5.44l.94 2.06.94-2.06 2.06-.94-2.06-.94-.94-2.06-.94 2.06-2.06.94zm-11 1L8.5 8.5l.94-2.06 2.06-.94-2.06-.94L8.5 2.5l-.94 2.06-2.06.94zm10 10l.94 2.06.94-2.06 2.06-.94-2.06-.94-.94-2.06-.94 2.06-2.06.94z\"/><path d=\"M17.41 7.96l-1.37-1.37c-.4-.4-.92-.59-1.43-.59-.52 0-1.04.2-1.43.59L10.3 9.45l-7.72 7.72c-.78.78-.78 2.05 0 2.83L4 21.41c.39.39.9.59 1.41.59.51 0 1.02-.2 1.41-.59l7.78-7.78 2.81-2.81c.8-.78.8-2.07 0-2.86zM5.41 20L4 18.59l7.72-7.72 1.47 1.35L5.41 20z\"/>\n",
              "  </svg>\n",
              "      </button>\n",
              "      \n",
              "  <style>\n",
              "    .colab-df-container {\n",
              "      display:flex;\n",
              "      flex-wrap:wrap;\n",
              "      gap: 12px;\n",
              "    }\n",
              "\n",
              "    .colab-df-convert {\n",
              "      background-color: #E8F0FE;\n",
              "      border: none;\n",
              "      border-radius: 50%;\n",
              "      cursor: pointer;\n",
              "      display: none;\n",
              "      fill: #1967D2;\n",
              "      height: 32px;\n",
              "      padding: 0 0 0 0;\n",
              "      width: 32px;\n",
              "    }\n",
              "\n",
              "    .colab-df-convert:hover {\n",
              "      background-color: #E2EBFA;\n",
              "      box-shadow: 0px 1px 2px rgba(60, 64, 67, 0.3), 0px 1px 3px 1px rgba(60, 64, 67, 0.15);\n",
              "      fill: #174EA6;\n",
              "    }\n",
              "\n",
              "    [theme=dark] .colab-df-convert {\n",
              "      background-color: #3B4455;\n",
              "      fill: #D2E3FC;\n",
              "    }\n",
              "\n",
              "    [theme=dark] .colab-df-convert:hover {\n",
              "      background-color: #434B5C;\n",
              "      box-shadow: 0px 1px 3px 1px rgba(0, 0, 0, 0.15);\n",
              "      filter: drop-shadow(0px 1px 2px rgba(0, 0, 0, 0.3));\n",
              "      fill: #FFFFFF;\n",
              "    }\n",
              "  </style>\n",
              "\n",
              "      <script>\n",
              "        const buttonEl =\n",
              "          document.querySelector('#df-45744576-33c4-40fc-8257-bb2def91ab5f button.colab-df-convert');\n",
              "        buttonEl.style.display =\n",
              "          google.colab.kernel.accessAllowed ? 'block' : 'none';\n",
              "\n",
              "        async function convertToInteractive(key) {\n",
              "          const element = document.querySelector('#df-45744576-33c4-40fc-8257-bb2def91ab5f');\n",
              "          const dataTable =\n",
              "            await google.colab.kernel.invokeFunction('convertToInteractive',\n",
              "                                                     [key], {});\n",
              "          if (!dataTable) return;\n",
              "\n",
              "          const docLinkHtml = 'Like what you see? Visit the ' +\n",
              "            '<a target=\"_blank\" href=https://colab.research.google.com/notebooks/data_table.ipynb>data table notebook</a>'\n",
              "            + ' to learn more about interactive tables.';\n",
              "          element.innerHTML = '';\n",
              "          dataTable['output_type'] = 'display_data';\n",
              "          await google.colab.output.renderOutput(dataTable, element);\n",
              "          const docLink = document.createElement('div');\n",
              "          docLink.innerHTML = docLinkHtml;\n",
              "          element.appendChild(docLink);\n",
              "        }\n",
              "      </script>\n",
              "    </div>\n",
              "  </div>\n",
              "  "
            ],
            "text/plain": [
              "              Fecha-I Vlo-I Ori-I Des-I Emp-I             Fecha-O Vlo-O Ori-O  \\\n",
              "0 2017-01-01 23:30:00   226  SCEL  KMIA   AAL 2017-01-01 23:33:00   226  SCEL   \n",
              "1 2017-01-02 23:30:00   226  SCEL  KMIA   AAL 2017-01-02 23:39:00   226  SCEL   \n",
              "2 2017-01-03 23:30:00   226  SCEL  KMIA   AAL 2017-01-03 23:39:00   226  SCEL   \n",
              "3 2017-01-04 23:30:00   226  SCEL  KMIA   AAL 2017-01-04 23:33:00   226  SCEL   \n",
              "4 2017-01-05 23:30:00   226  SCEL  KMIA   AAL 2017-01-05 23:28:00   226  SCEL   \n",
              "\n",
              "  Des-O Emp-O  ...  DIANOM_Jueves  DIANOM_Lunes  DIANOM_Martes  \\\n",
              "0  KMIA   AAL  ...              0             0              0   \n",
              "1  KMIA   AAL  ...              0             1              0   \n",
              "2  KMIA   AAL  ...              0             0              1   \n",
              "3  KMIA   AAL  ...              0             0              0   \n",
              "4  KMIA   AAL  ...              1             0              0   \n",
              "\n",
              "  DIANOM_Miercoles DIANOM_Sabado DIANOM_Viernes periodo_dia_mañana  \\\n",
              "0                0             0              0                  0   \n",
              "1                0             0              0                  0   \n",
              "2                0             0              0                  0   \n",
              "3                1             0              0                  0   \n",
              "4                0             0              0                  0   \n",
              "\n",
              "   periodo_dia_noche  periodo_dia_tarde  vuelo_atraso_top10  \n",
              "0                  1                  0                   0  \n",
              "1                  1                  0                   0  \n",
              "2                  1                  0                   0  \n",
              "3                  1                  0                   0  \n",
              "4                  1                  0                   0  \n",
              "\n",
              "[5 rows x 33 columns]"
            ]
          },
          "execution_count": 214,
          "metadata": {},
          "output_type": "execute_result"
        }
      ],
      "source": [
        "#Verificacin de creación de variable dummy y one-hot encoding\n",
        "df2.head(5)"
      ]
    },
    {
      "cell_type": "code",
      "execution_count": 215,
      "metadata": {
        "colab": {
          "base_uri": "https://localhost:8080/"
        },
        "id": "xcZMRMrQXL9r",
        "outputId": "2de34c5b-b749-43c4-fcf4-a757dcd7b8d9"
      },
      "outputs": [
        {
          "name": "stderr",
          "output_type": "stream",
          "text": [
            "<ipython-input-215-e9fb88da1ba5>:5: SettingWithCopyWarning: \n",
            "A value is trying to be set on a copy of a slice from a DataFrame.\n",
            "Try using .loc[row_indexer,col_indexer] = value instead\n",
            "\n",
            "See the caveats in the documentation: https://pandas.pydata.org/pandas-docs/stable/user_guide/indexing.html#returning-a-view-versus-a-copy\n",
            "  X[c] = X[c].astype('category')\n"
          ]
        }
      ],
      "source": [
        "#Casteo a categorico\n",
        "for c in categoricalcolumns:\n",
        "  col_type=X[c].dtype\n",
        "  if col_type == 'object' or col_type.name == 'category':\n",
        "    X[c] = X[c].astype('category')"
      ]
    },
    {
      "cell_type": "code",
      "execution_count": 216,
      "metadata": {
        "id": "Kc1uLDqGXL67"
      },
      "outputs": [],
      "source": [
        "# Split de datos para prueba y testeo\n",
        "X_train, X_test, y_train, y_test = train_test_split(X, y, test_size=0.3, random_state=42)"
      ]
    },
    {
      "cell_type": "code",
      "execution_count": 217,
      "metadata": {
        "colab": {
          "base_uri": "https://localhost:8080/"
        },
        "id": "e03u1mG_XL4L",
        "outputId": "b3297d43-741f-4452-8517-85f299e7c87a"
      },
      "outputs": [
        {
          "data": {
            "text/plain": [
              "LGBMClassifier(random_state=42)"
            ]
          },
          "execution_count": 217,
          "metadata": {},
          "output_type": "execute_result"
        }
      ],
      "source": [
        "#Aplicación modelo LGMClassifier\n",
        "clf=lgb.LGBMClassifier(random_state=42)\n",
        "clf.fit(X_train,y_train)"
      ]
    },
    {
      "cell_type": "code",
      "execution_count": 218,
      "metadata": {
        "colab": {
          "base_uri": "https://localhost:8080/"
        },
        "id": "6ozb0cS9XL08",
        "outputId": "eb647b6c-ea53-47bd-ee00-147663e03dfd"
      },
      "outputs": [
        {
          "name": "stdout",
          "output_type": "stream",
          "text": [
            "              precision    recall  f1-score   support\n",
            "\n",
            "           0       0.83      0.98      0.90     16572\n",
            "           1       0.62      0.15      0.24      3879\n",
            "\n",
            "    accuracy                           0.82     20451\n",
            "   macro avg       0.73      0.56      0.57     20451\n",
            "weighted avg       0.79      0.82      0.77     20451\n",
            "\n"
          ]
        }
      ],
      "source": [
        "#Aplicación del modelo sobre partición de prueba\n",
        "y_predict=clf.predict(X_test)\n",
        "#Reporte de la clasifiación con LGMClassifier\n",
        "print(classification_report(y_test,y_predict))"
      ]
    },
    {
      "cell_type": "code",
      "execution_count": 219,
      "metadata": {
        "id": "5hkAUF_MXLuc"
      },
      "outputs": [],
      "source": [
        "# aplicación CatBoostClassifier\n",
        "# Nuevo entrenamiento al modelo con nuevos parametros Modelo final\n",
        "clf_4=CatBoostClassifier(random_state=42,iterations=500, scale_pos_weight=3.0,verbose=False)\n",
        "\n",
        "clf_4.fit(X_train,y_train,\n",
        "        cat_features=categoricalcolumns)\n",
        "\n",
        "print(('CatBoost model parameters:'))\n",
        "print(clf_4.get_params())"
      ]
    },
    {
      "cell_type": "markdown",
      "metadata": {
        "id": "3xqxywS_ZidK"
      },
      "source": [
        "# 5. Evalúa tu modelo. ¿Qué performance tiene? ¿Qué métricas usaste para evaluar esa performance y por qué? ¿Por qué elegiste ese algoritmo en particular? ¿Qué variables son las que más influyen en la predicción? ¿Cómo podrías mejorar la performance?"
      ]
    },
    {
      "cell_type": "markdown",
      "metadata": {
        "id": "Mh6rc586Zw4d"
      },
      "source": [
        "En el apartado anterior se entreno como medelo final un CatBoostClassifier a continuacion se mostrarán las metricas empleadas para evaluación del modelo, asi como las variables de mayon influencia y un modo de mejorar la performance del mismo.\n",
        "\n",
        "\n",
        "Como nota al lector se ha empleado este algoritmo dado que el algoritmo de CatBoost puede trabajar con diversos tipos de datos el cualayuda a resolver un amplio abanico de problemas. Dos de las principales características del\n",
        "algoritmo es que produce resultados de alta calidad sin un entrenamiento de datos extenso comparados con otros métodos de machine learning y puede trabajar con múltiples clases de datos que aparecen en variados contextos de negocio.\n"
      ]
    },
    {
      "cell_type": "markdown",
      "metadata": {
        "id": "ZzTn4Qo0dHag"
      },
      "source": [
        "**Identificación de variables que mas influyen en la predicción:**"
      ]
    },
    {
      "cell_type": "code",
      "execution_count": 220,
      "metadata": {
        "colab": {
          "base_uri": "https://localhost:8080/",
          "height": 363
        },
        "id": "J6sr7nfARjAk",
        "outputId": "f0160d27-bc8d-459f-d2bd-89d740c02569"
      },
      "outputs": [
        {
          "data": {
            "image/png": "[encoded data removed]",
            "text/plain": [
              "<Figure size 600x400 with 1 Axes>"
            ]
          },
          "metadata": {
            "needs_background": "light"
          },
          "output_type": "display_data"
        }
      ],
      "source": [
        "#Identificación de las variables de mayor importancia para el modelo\n",
        "\n",
        "sorted_feat = clf_4.feature_importances_.argsort()\n",
        "plt.figure()\n",
        "plt.barh(X_train.columns[sorted_feat],clf_4.feature_importances_[sorted_feat])\n",
        "plt.show()"
      ]
    },
    {
      "cell_type": "markdown",
      "metadata": {
        "id": "3U2csZYkbWek"
      },
      "source": [
        "La anterior grafica se observa que el mes, día, número de vuelo programado, y ciudad de destino son las variables de las cuales aprende mas el modelo, por su parte variables como año no tiene influencia ( Y es de esperarse pues los datos pertenecen a un solo valor 2017)"
      ]
    },
    {
      "cell_type": "markdown",
      "metadata": {
        "id": "IDByWbQhdVfn"
      },
      "source": [
        "Metricas para medición del performance del modelo:\n",
        "\n",
        "En este apartado se usaran metricas para medir la capacidad de clasificar y predecir."
      ]
    },
    {
      "cell_type": "code",
      "execution_count": 221,
      "metadata": {
        "colab": {
          "base_uri": "https://localhost:8080/"
        },
        "id": "RIZA8clzdFdJ",
        "outputId": "d95bafb8-0d36-4f4f-f56e-45b0b79eed5e"
      },
      "outputs": [
        {
          "name": "stdout",
          "output_type": "stream",
          "text": [
            "              precision    recall  f1-score   support\n",
            "\n",
            "           0       0.87      0.85      0.86     16572\n",
            "           1       0.41      0.46      0.44      3879\n",
            "\n",
            "    accuracy                           0.77     20451\n",
            "   macro avg       0.64      0.65      0.65     20451\n",
            "weighted avg       0.78      0.77      0.78     20451\n",
            "\n"
          ]
        }
      ],
      "source": [
        "#Calculo de reporte de clasificación\n",
        "y_predict=clf_4.predict(X_test)\n",
        "print(classification_report(y_test,y_predict))"
      ]
    },
    {
      "cell_type": "markdown",
      "metadata": {
        "id": "fbRdYQVmi3O3"
      },
      "source": [
        "Se observa que este modelo tiene presición media para CLASIFICAR aquellos vuelos con restraso, al igual que su Recall al momento sobre informar la cantidad de vuelos retrasados que estara en capacidad de clasificar. "
      ]
    },
    {
      "cell_type": "markdown",
      "metadata": {
        "id": "EmHeW7QmmC7C"
      },
      "source": [
        "**Mediciones para predicción:**"
      ]
    },
    {
      "cell_type": "code",
      "execution_count": 222,
      "metadata": {
        "colab": {
          "base_uri": "https://localhost:8080/",
          "height": 409
        },
        "id": "r3A08XNFR5yy",
        "outputId": "a4a6e09b-0aec-442c-d606-fc1aade5b163"
      },
      "outputs": [
        {
          "data": {
            "image/png": "[encoded data removed]",
            "text/plain": [
              "<Figure size 600x400 with 1 Axes>"
            ]
          },
          "metadata": {
            "needs_background": "light"
          },
          "output_type": "display_data"
        },
        {
          "name": "stdout",
          "output_type": "stream",
          "text": [
            "0.4356404050954999\n"
          ]
        }
      ],
      "source": [
        "#Creación de grafica PR \n",
        "\n",
        "y_predict_proba_2=clf_4.predict_proba(X_test)\n",
        "proba_delay = y_predict_proba_2[:,1]\n",
        "\n",
        "precision, recall, thresholds = precision_recall_curve(y_test, proba_delay)\n",
        "plt.plot(recall, precision)\n",
        "plt.xlabel('Recall')\n",
        "plt.ylabel('Precision')\n",
        "plt.show()\n",
        "auc_pr = auc(recall, precision)\n",
        "print(auc_pr)"
      ]
    },
    {
      "cell_type": "markdown",
      "metadata": {
        "id": "XLpH_zQHk3ui"
      },
      "source": [
        "Esta curva PR:\n",
        "\n",
        "\n",
        "La curva PR es el resultado de dibujar la gráfica entre el precision y el recall. Esta gráfica nos permite ver a partir de qué recall tenemos una degradación de la precisión y viceversa. Lo ideal sería una curva que se acerque lo máximo posible a la esquina superior derecha (alta precisión y alto recall) (medium,2021)\n",
        "\n",
        "\n",
        "\n",
        "Para esta curva vemos un AP de 0,43 (Average precision) el cual nos sirve para evaluar el rendimiento del modelo en este caso para PREDICCIÓN, entre mas cerca a 1 este sera mejor"
      ]
    },
    {
      "cell_type": "code",
      "execution_count": 223,
      "metadata": {
        "colab": {
          "base_uri": "https://localhost:8080/"
        },
        "id": "Hh0lKOWQHP77",
        "outputId": "bf4bfc86-928f-4a24-bd41-946e5a08f509"
      },
      "outputs": [
        {
          "data": {
            "text/plain": [
              "0.5026754699381889"
            ]
          },
          "execution_count": 223,
          "metadata": {},
          "output_type": "execute_result"
        }
      ],
      "source": [
        "#Calculo de metrica log_lost para el modelo\n",
        "from sklearn.metrics import log_loss  \n",
        "y_predict_proba_4=clf_4.predict_proba(X_test)\n",
        "proba_delay = y_predict_proba_4[:,1] #Se toma unicamente para la fila de predicción de 1 es decir la de retrasos. \n",
        "log_loss(y_test, proba_delay, eps=1e-15)"
      ]
    },
    {
      "cell_type": "markdown",
      "metadata": {
        "id": "funJKE_flhBq"
      },
      "source": [
        "**Log loss** \n",
        "\n",
        "Mide el rendimiento de un clasificador donde el resultado pronosticado es un valor de **probabilidad** entre 0 y 1. Se puede calcular el Log loss para cada fila utilizando la ecuación de Log loss, que mide como de lejos está cada predicción con respecto a la etiqueta real (juanbarrios,2022). Para este caso el modelo evaluado tiene un Log_loss de 0.5"
      ]
    },
    {
      "cell_type": "markdown",
      "metadata": {
        "id": "sv5ASOLjc2gN"
      },
      "source": [
        "**Mejoramiento de performance**\n",
        "\n",
        "**Hyperparameter Tunning**"
      ]
    },
    {
      "cell_type": "code",
      "execution_count": 224,
      "metadata": {
        "id": "3wYa1dxrc1RZ"
      },
      "outputs": [],
      "source": [
        "#Creación de columnas para mejoramiento de performance\n",
        "X_columns=X.columns.values"
      ]
    },
    {
      "cell_type": "code",
      "execution_count": 225,
      "metadata": {
        "id": "PGK3vfEic1N2"
      },
      "outputs": [],
      "source": [
        "#Nueva partición para mejoramiento de performance\n",
        "\n",
        "x_train, x_test, y_train, y_test = train_test_split(X, y, test_size=0.3, random_state=42)"
      ]
    },
    {
      "cell_type": "code",
      "execution_count": 226,
      "metadata": {
        "id": "_XP6nCrhc1IN"
      },
      "outputs": [],
      "source": [
        "#Importar faltantes para optimización de parametros\n",
        "import random\n",
        "from sklearn import metrics"
      ]
    },
    {
      "cell_type": "code",
      "execution_count": 227,
      "metadata": {
        "id": "8e-7pSVYc1CE"
      },
      "outputs": [],
      "source": [
        "#Función para optimizar los hiperparametros \n",
        "\n",
        "def search_hyperparams(grid_hyperparameters, x_columns, x_train, x_test, y_train, y_test, categoricalcolumns):\n",
        "  random.seed(42)\n",
        "  iters=100\n",
        "  best_params ={}\n",
        "  best_score = 0\n",
        "  for i in list(range(iters)):\n",
        "    params = {x: random.choice(z) for x,z in grid_hyperparameters.items()}\n",
        "    temp_clf = CatBoostClassifier(**params, verbose=False)\n",
        "    temp_clf.fit(x_train,y_train,cat_features=categoricalcolumns, verbose=False)\n",
        "    temp_proba= x_test.copy()\n",
        "    temp_proba['probability']=[x[1] for x in temp_clf.predict_proba(temp_proba[x_columns])]\n",
        "    score = metrics.average_precision_score(list(y_test),temp_proba['probability'].tolist())\n",
        "    if score > best_score:\n",
        "      best_score = score\n",
        "      best_params = params\n",
        "      print('Best new params: ', best_params)\n",
        "    return best_params\n"
      ]
    },
    {
      "cell_type": "code",
      "execution_count": 228,
      "metadata": {
        "id": "bVf5M8mEHP5L"
      },
      "outputs": [],
      "source": [
        "#Grid para iteración de hiperparametros\n",
        "grid_hyperparameters={    \n",
        "    \"learning_rate\" :[0.0001,0.001,0.01,0.2,0.3],      \n",
        "    \"max_depth\":[3,4,5,6,7],    \n",
        "    \"iterations\":[200,400,600,800]\n",
        "}"
      ]
    },
    {
      "attachments": {},
      "cell_type": "markdown",
      "metadata": {},
      "source": [
        "Atencion la siguiente linea de codigo pretende encontrar hiperparametros optimizados para este \n",
        "proceso prueba varias iteraciones con diferentes hiperparametros por lo que correr la siguiente lidea de \n",
        "codigo puede tomar un tiempo considerable computacionalmente"
      ]
    },
    {
      "cell_type": "code",
      "execution_count": 229,
      "metadata": {
        "colab": {
          "base_uri": "https://localhost:8080/"
        },
        "id": "wQtbyhv0FMGG",
        "outputId": "afc4dea8-b7fe-4924-ba84-2997e8dd17e8"
      },
      "outputs": [
        {
          "name": "stdout",
          "output_type": "stream",
          "text": [
            "Best new params:  {'learning_rate': 0.0001, 'max_depth': 3, 'iterations': 600}\n"
          ]
        },
        {
          "data": {
            "text/plain": [
              "{'learning_rate': 0.0001, 'max_depth': 3, 'iterations': 600}"
            ]
          },
          "execution_count": 229,
          "metadata": {},
          "output_type": "execute_result"
        }
      ],
      "source": [
        "#mejores nuevos hiper parametros\n",
        "search_hyperparams (grid_hyperparameters,X_columns,x_train, x_test, y_train, y_test, categoricalcolumns) "
      ]
    },
    {
      "cell_type": "markdown",
      "metadata": {
        "id": "6vjMDN3zeNWO"
      },
      "source": [
        "# CONCLUSIONES FINALES\n",
        "\n",
        "\n",
        "*   Se comprobó la distribución de los vuelos programados por mes y por día  adicional, se valido su concordancia con lo denominado “Temporada alta”\n",
        "\n",
        "*   Se identifica que hay una tasa global de retraso del 18,4%, lo cual indica que se debe tomar acción basados en los vuelos, destinos, días y meses de con mayor concentración de dicha tasa. \n",
        "\n",
        "*   Se observa que de los modelos analizados el modelo CatBoostClassifier tiene mejor performance, aun este sin ser del todo “Optimo para la predicción” Se sugiere realizar trabajo futuro de exploración con otros modelos, y con otros métodos de optimización de parámetros.\n",
        "\n",
        "*   El presente análisis de datos debe realizarse y validarse con personas expertas en negocio para la formulación de conclusiones que se traduzcan en acciones de mejora.\n",
        "\n",
        "*   \n",
        "\n",
        "**Trabajos Futuros:**\n",
        "\n",
        "*   Identificación de distribución de retrasos por franjas horarias, meses y días de la semana.\n",
        "\n",
        "*   Mejoramiento en el modelo de predicción con identificación de otros modelos y otros métodos de optimización de parámetros.\n",
        "\n",
        "*   Complementar este tipo de análisis con Insight de negocio e insumos adicionales como análisis causa raíz que posteriormente se traduzcan en acciones concretas concentradas en reducción de retrasos en vuelos. \n"
      ]
    },
    {
      "cell_type": "markdown",
      "metadata": {
        "id": "LVt9dqt0elBN"
      },
      "source": [
        "# Referencias\n",
        "\n",
        "\n",
        "\n",
        "\n",
        "*   Gonzales. (2020). repository.usta. Obtenido de https://repository.usta.edu.co/jspui/bitstream/11634/35742/1/2021yiniortiz.pdf\n",
        "\n",
        "*   iartificial. (2021). iartificial. Obtenido de https://www.iartificial.net/precision-recall-f1-accuracy-en-clasificacion/\n",
        "\n",
        "*  juanbarrios. (s.f.). juanbarrios. Obtenido de https://www.juanbarrios.com/evaluando-los-algoritmos-de-clasificacion/\n",
        "\n",
        "*   medium. (2020). medium. Obtenido de https://medium.com/bluekiri/curvas-pr-y-roc-1489fbd9a527\n",
        "\n",
        "\n",
        "\n",
        "*   mql5. (2021). mql5. Obtenido de https://www.mql5.com/es/articles/8642\n",
        "\n",
        "\n",
        "\n",
        "\n",
        "\n",
        "\n",
        "\n",
        "\n",
        "\n",
        "\n",
        "\n"
      ]
    }
  ],
  "metadata": {
    "colab": {
      "provenance": []
    },
    "kernelspec": {
      "display_name": "Python 3",
      "name": "python3"
    },
    "language_info": {
      "name": "python"
    }
  },
  "nbformat": 4,
  "nbformat_minor": 0
}
